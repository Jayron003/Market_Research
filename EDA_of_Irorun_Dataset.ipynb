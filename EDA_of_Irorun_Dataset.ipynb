{
 "cells": [
  {
   "cell_type": "markdown",
   "id": "92b3810a",
   "metadata": {},
   "source": [
    "# Exploratory Data Analysis\n",
    "We are going to perform an exploratory analysis on the scrapped `Irorun` data to gain some insight about the data.\n",
    "- `reviewId`- Unique identification key per review\n",
    "- `userName`- customer username\n",
    "- `userImage`- url to customer display picture\n",
    "- `reviews`- customer review \n",
    "- `score`- customer star rating\n",
    "- `thumbsUpCount`- total number of like per reviews\n",
    "- `reviewCreatedVersion`- customer app version as of the time of review\n",
    "- `at`- date and time review was posted.\n",
    "- `replyContent`- reply content per customer review\n",
    "- `repliedAt`- date and time of reply per customer review"
   ]
  },
  {
   "cell_type": "code",
   "execution_count": 1,
   "id": "c32db8f2",
   "metadata": {},
   "outputs": [],
   "source": [
    "# Import neccessary libraries\n",
    "import pandas as pd\n",
    "import seaborn as sns\n",
    "from scipy.stats import expon\n",
    "import matplotlib.pyplot as plt"
   ]
  },
  {
   "cell_type": "code",
   "execution_count": 2,
   "id": "de7741a7",
   "metadata": {},
   "outputs": [
    {
     "data": {
      "text/html": [
       "<div>\n",
       "<style scoped>\n",
       "    .dataframe tbody tr th:only-of-type {\n",
       "        vertical-align: middle;\n",
       "    }\n",
       "\n",
       "    .dataframe tbody tr th {\n",
       "        vertical-align: top;\n",
       "    }\n",
       "\n",
       "    .dataframe thead th {\n",
       "        text-align: right;\n",
       "    }\n",
       "</style>\n",
       "<table border=\"1\" class=\"dataframe\">\n",
       "  <thead>\n",
       "    <tr style=\"text-align: right;\">\n",
       "      <th></th>\n",
       "      <th>reviewId</th>\n",
       "      <th>userName</th>\n",
       "      <th>userImage</th>\n",
       "      <th>reviews</th>\n",
       "      <th>score</th>\n",
       "      <th>thumbsUpCount</th>\n",
       "      <th>reviewCreatedVersion</th>\n",
       "      <th>at</th>\n",
       "      <th>replyContent</th>\n",
       "      <th>repliedAt</th>\n",
       "    </tr>\n",
       "  </thead>\n",
       "  <tbody>\n",
       "    <tr>\n",
       "      <th>0</th>\n",
       "      <td>074b6496-832a-4d94-aaaf-088542998303</td>\n",
       "      <td>adeniyi muyiwa</td>\n",
       "      <td>https://play-lh.googleusercontent.com/a/AGNmyx...</td>\n",
       "      <td>Why is it so difficult in getting through to t...</td>\n",
       "      <td>1</td>\n",
       "      <td>0</td>\n",
       "      <td>14.4</td>\n",
       "      <td>2023-03-19 20:18:56</td>\n",
       "      <td>NaN</td>\n",
       "      <td>NaN</td>\n",
       "    </tr>\n",
       "    <tr>\n",
       "      <th>1</th>\n",
       "      <td>063b9d48-30be-4e08-9878-913b94721e50</td>\n",
       "      <td>Robel Mazengia</td>\n",
       "      <td>https://play-lh.googleusercontent.com/a/AGNmyx...</td>\n",
       "      <td>Efficient loan application and approval proces...</td>\n",
       "      <td>5</td>\n",
       "      <td>0</td>\n",
       "      <td>14.3</td>\n",
       "      <td>2023-03-19 03:57:56</td>\n",
       "      <td>NaN</td>\n",
       "      <td>NaN</td>\n",
       "    </tr>\n",
       "    <tr>\n",
       "      <th>2</th>\n",
       "      <td>d798fda8-303d-441d-8281-bfec50ab9cbd</td>\n",
       "      <td>SAFARì</td>\n",
       "      <td>https://play-lh.googleusercontent.com/a-/ACB-R...</td>\n",
       "      <td>Needs an update, it crashes upon completing lo...</td>\n",
       "      <td>1</td>\n",
       "      <td>0</td>\n",
       "      <td>14.3</td>\n",
       "      <td>2023-03-19 01:18:21</td>\n",
       "      <td>NaN</td>\n",
       "      <td>NaN</td>\n",
       "    </tr>\n",
       "    <tr>\n",
       "      <th>3</th>\n",
       "      <td>846b3fb7-60df-4d13-873f-1398a7d6d38f</td>\n",
       "      <td>Ayodele Temitope</td>\n",
       "      <td>https://play-lh.googleusercontent.com/a-/ACB-R...</td>\n",
       "      <td>The app is quick, nice design with monochromat...</td>\n",
       "      <td>4</td>\n",
       "      <td>0</td>\n",
       "      <td>14.3</td>\n",
       "      <td>2023-03-18 19:15:48</td>\n",
       "      <td>NaN</td>\n",
       "      <td>NaN</td>\n",
       "    </tr>\n",
       "    <tr>\n",
       "      <th>4</th>\n",
       "      <td>70355c77-26c8-457f-89da-3b9e778ecd73</td>\n",
       "      <td>Afolabi Oluwapelumi</td>\n",
       "      <td>https://play-lh.googleusercontent.com/a/AGNmyx...</td>\n",
       "      <td>Nice app. However you should also consider off...</td>\n",
       "      <td>4</td>\n",
       "      <td>0</td>\n",
       "      <td>NaN</td>\n",
       "      <td>2023-03-18 17:58:52</td>\n",
       "      <td>NaN</td>\n",
       "      <td>NaN</td>\n",
       "    </tr>\n",
       "  </tbody>\n",
       "</table>\n",
       "</div>"
      ],
      "text/plain": [
       "                               reviewId             userName  \\\n",
       "0  074b6496-832a-4d94-aaaf-088542998303       adeniyi muyiwa   \n",
       "1  063b9d48-30be-4e08-9878-913b94721e50       Robel Mazengia   \n",
       "2  d798fda8-303d-441d-8281-bfec50ab9cbd               SAFARì   \n",
       "3  846b3fb7-60df-4d13-873f-1398a7d6d38f     Ayodele Temitope   \n",
       "4  70355c77-26c8-457f-89da-3b9e778ecd73  Afolabi Oluwapelumi   \n",
       "\n",
       "                                           userImage  \\\n",
       "0  https://play-lh.googleusercontent.com/a/AGNmyx...   \n",
       "1  https://play-lh.googleusercontent.com/a/AGNmyx...   \n",
       "2  https://play-lh.googleusercontent.com/a-/ACB-R...   \n",
       "3  https://play-lh.googleusercontent.com/a-/ACB-R...   \n",
       "4  https://play-lh.googleusercontent.com/a/AGNmyx...   \n",
       "\n",
       "                                             reviews  score  thumbsUpCount  \\\n",
       "0  Why is it so difficult in getting through to t...      1              0   \n",
       "1  Efficient loan application and approval proces...      5              0   \n",
       "2  Needs an update, it crashes upon completing lo...      1              0   \n",
       "3  The app is quick, nice design with monochromat...      4              0   \n",
       "4  Nice app. However you should also consider off...      4              0   \n",
       "\n",
       "  reviewCreatedVersion                   at replyContent repliedAt  \n",
       "0                 14.4  2023-03-19 20:18:56          NaN       NaN  \n",
       "1                 14.3  2023-03-19 03:57:56          NaN       NaN  \n",
       "2                 14.3  2023-03-19 01:18:21          NaN       NaN  \n",
       "3                 14.3  2023-03-18 19:15:48          NaN       NaN  \n",
       "4                  NaN  2023-03-18 17:58:52          NaN       NaN  "
      ]
     },
     "execution_count": 2,
     "metadata": {},
     "output_type": "execute_result"
    }
   ],
   "source": [
    "df = pd.read_csv(\"Irorun_scraped_reviews.csv\", encoding=\"ISO-8859-1\")\n",
    "df.head()"
   ]
  },
  {
   "cell_type": "code",
   "execution_count": 3,
   "id": "b03a0ed4",
   "metadata": {},
   "outputs": [
    {
     "data": {
      "text/html": [
       "<div>\n",
       "<style scoped>\n",
       "    .dataframe tbody tr th:only-of-type {\n",
       "        vertical-align: middle;\n",
       "    }\n",
       "\n",
       "    .dataframe tbody tr th {\n",
       "        vertical-align: top;\n",
       "    }\n",
       "\n",
       "    .dataframe thead th {\n",
       "        text-align: right;\n",
       "    }\n",
       "</style>\n",
       "<table border=\"1\" class=\"dataframe\">\n",
       "  <thead>\n",
       "    <tr style=\"text-align: right;\">\n",
       "      <th></th>\n",
       "      <th>userName</th>\n",
       "      <th>reviews</th>\n",
       "      <th>score</th>\n",
       "      <th>thumbsUpCount</th>\n",
       "      <th>reviewCreatedVersion</th>\n",
       "      <th>at</th>\n",
       "      <th>replyContent</th>\n",
       "      <th>repliedAt</th>\n",
       "    </tr>\n",
       "  </thead>\n",
       "  <tbody>\n",
       "    <tr>\n",
       "      <th>0</th>\n",
       "      <td>adeniyi muyiwa</td>\n",
       "      <td>Why is it so difficult in getting through to t...</td>\n",
       "      <td>1</td>\n",
       "      <td>0</td>\n",
       "      <td>14.4</td>\n",
       "      <td>2023-03-19 20:18:56</td>\n",
       "      <td>NaN</td>\n",
       "      <td>NaN</td>\n",
       "    </tr>\n",
       "    <tr>\n",
       "      <th>1</th>\n",
       "      <td>Robel Mazengia</td>\n",
       "      <td>Efficient loan application and approval proces...</td>\n",
       "      <td>5</td>\n",
       "      <td>0</td>\n",
       "      <td>14.3</td>\n",
       "      <td>2023-03-19 03:57:56</td>\n",
       "      <td>NaN</td>\n",
       "      <td>NaN</td>\n",
       "    </tr>\n",
       "    <tr>\n",
       "      <th>2</th>\n",
       "      <td>SAFARì</td>\n",
       "      <td>Needs an update, it crashes upon completing lo...</td>\n",
       "      <td>1</td>\n",
       "      <td>0</td>\n",
       "      <td>14.3</td>\n",
       "      <td>2023-03-19 01:18:21</td>\n",
       "      <td>NaN</td>\n",
       "      <td>NaN</td>\n",
       "    </tr>\n",
       "    <tr>\n",
       "      <th>3</th>\n",
       "      <td>Ayodele Temitope</td>\n",
       "      <td>The app is quick, nice design with monochromat...</td>\n",
       "      <td>4</td>\n",
       "      <td>0</td>\n",
       "      <td>14.3</td>\n",
       "      <td>2023-03-18 19:15:48</td>\n",
       "      <td>NaN</td>\n",
       "      <td>NaN</td>\n",
       "    </tr>\n",
       "    <tr>\n",
       "      <th>4</th>\n",
       "      <td>Afolabi Oluwapelumi</td>\n",
       "      <td>Nice app. However you should also consider off...</td>\n",
       "      <td>4</td>\n",
       "      <td>0</td>\n",
       "      <td>NaN</td>\n",
       "      <td>2023-03-18 17:58:52</td>\n",
       "      <td>NaN</td>\n",
       "      <td>NaN</td>\n",
       "    </tr>\n",
       "    <tr>\n",
       "      <th>...</th>\n",
       "      <td>...</td>\n",
       "      <td>...</td>\n",
       "      <td>...</td>\n",
       "      <td>...</td>\n",
       "      <td>...</td>\n",
       "      <td>...</td>\n",
       "      <td>...</td>\n",
       "      <td>...</td>\n",
       "    </tr>\n",
       "    <tr>\n",
       "      <th>1604</th>\n",
       "      <td>Teemax Emm</td>\n",
       "      <td>Scam</td>\n",
       "      <td>1</td>\n",
       "      <td>1</td>\n",
       "      <td>NaN</td>\n",
       "      <td>2020-09-13 10:07:19</td>\n",
       "      <td>Hi, can you please provide details so that we ...</td>\n",
       "      <td>2020-09-16 01:43:50</td>\n",
       "    </tr>\n",
       "    <tr>\n",
       "      <th>1605</th>\n",
       "      <td>Olugbara Blessing</td>\n",
       "      <td>This ain't working at all, after adding selfie...</td>\n",
       "      <td>1</td>\n",
       "      <td>10</td>\n",
       "      <td>10.0</td>\n",
       "      <td>2020-08-25 00:07:26</td>\n",
       "      <td>Hi, please email us a screenshot of the error ...</td>\n",
       "      <td>2020-09-16 01:42:57</td>\n",
       "    </tr>\n",
       "    <tr>\n",
       "      <th>1606</th>\n",
       "      <td>Amuda Babatunde Ajia</td>\n",
       "      <td>Your application is a scam you are not giving ...</td>\n",
       "      <td>1</td>\n",
       "      <td>7</td>\n",
       "      <td>10.0</td>\n",
       "      <td>2020-08-05 14:25:38</td>\n",
       "      <td>Hi Amuda. We're sorry that you couldn't get a ...</td>\n",
       "      <td>2020-09-16 01:42:23</td>\n",
       "    </tr>\n",
       "    <tr>\n",
       "      <th>1607</th>\n",
       "      <td>Tope Alabi</td>\n",
       "      <td>Useless app</td>\n",
       "      <td>1</td>\n",
       "      <td>1</td>\n",
       "      <td>NaN</td>\n",
       "      <td>2020-07-27 03:36:16</td>\n",
       "      <td>Hi Tope, can you please provide details so tha...</td>\n",
       "      <td>2020-11-19 08:01:33</td>\n",
       "    </tr>\n",
       "    <tr>\n",
       "      <th>1608</th>\n",
       "      <td>HAMMED ISMAIL</td>\n",
       "      <td>D must useless app dnt waste ur data</td>\n",
       "      <td>1</td>\n",
       "      <td>3</td>\n",
       "      <td>9.0</td>\n",
       "      <td>2020-07-08 15:58:01</td>\n",
       "      <td>Hello Hammad, We can confirm that you were abl...</td>\n",
       "      <td>2020-11-19 08:12:12</td>\n",
       "    </tr>\n",
       "  </tbody>\n",
       "</table>\n",
       "<p>1609 rows × 8 columns</p>\n",
       "</div>"
      ],
      "text/plain": [
       "                  userName                                            reviews  \\\n",
       "0           adeniyi muyiwa  Why is it so difficult in getting through to t...   \n",
       "1           Robel Mazengia  Efficient loan application and approval proces...   \n",
       "2                   SAFARì  Needs an update, it crashes upon completing lo...   \n",
       "3         Ayodele Temitope  The app is quick, nice design with monochromat...   \n",
       "4      Afolabi Oluwapelumi  Nice app. However you should also consider off...   \n",
       "...                    ...                                                ...   \n",
       "1604            Teemax Emm                                               Scam   \n",
       "1605     Olugbara Blessing  This ain't working at all, after adding selfie...   \n",
       "1606  Amuda Babatunde Ajia  Your application is a scam you are not giving ...   \n",
       "1607            Tope Alabi                                        Useless app   \n",
       "1608         HAMMED ISMAIL               D must useless app dnt waste ur data   \n",
       "\n",
       "      score  thumbsUpCount reviewCreatedVersion                   at  \\\n",
       "0         1              0                 14.4  2023-03-19 20:18:56   \n",
       "1         5              0                 14.3  2023-03-19 03:57:56   \n",
       "2         1              0                 14.3  2023-03-19 01:18:21   \n",
       "3         4              0                 14.3  2023-03-18 19:15:48   \n",
       "4         4              0                  NaN  2023-03-18 17:58:52   \n",
       "...     ...            ...                  ...                  ...   \n",
       "1604      1              1                  NaN  2020-09-13 10:07:19   \n",
       "1605      1             10                 10.0  2020-08-25 00:07:26   \n",
       "1606      1              7                 10.0  2020-08-05 14:25:38   \n",
       "1607      1              1                  NaN  2020-07-27 03:36:16   \n",
       "1608      1              3                  9.0  2020-07-08 15:58:01   \n",
       "\n",
       "                                           replyContent            repliedAt  \n",
       "0                                                   NaN                  NaN  \n",
       "1                                                   NaN                  NaN  \n",
       "2                                                   NaN                  NaN  \n",
       "3                                                   NaN                  NaN  \n",
       "4                                                   NaN                  NaN  \n",
       "...                                                 ...                  ...  \n",
       "1604  Hi, can you please provide details so that we ...  2020-09-16 01:43:50  \n",
       "1605  Hi, please email us a screenshot of the error ...  2020-09-16 01:42:57  \n",
       "1606  Hi Amuda. We're sorry that you couldn't get a ...  2020-09-16 01:42:23  \n",
       "1607  Hi Tope, can you please provide details so tha...  2020-11-19 08:01:33  \n",
       "1608  Hello Hammad, We can confirm that you were abl...  2020-11-19 08:12:12  \n",
       "\n",
       "[1609 rows x 8 columns]"
      ]
     },
     "execution_count": 3,
     "metadata": {},
     "output_type": "execute_result"
    }
   ],
   "source": [
    "# drop unneccessary columns\n",
    "df.drop(columns=[\"reviewId\", \"userImage\"], axis=0)"
   ]
  },
  {
   "cell_type": "code",
   "execution_count": 4,
   "id": "85a2a2f2",
   "metadata": {},
   "outputs": [
    {
     "data": {
      "text/plain": [
       "0"
      ]
     },
     "execution_count": 4,
     "metadata": {},
     "output_type": "execute_result"
    }
   ],
   "source": [
    "# Check for duplicates\n",
    "df.duplicated().sum()"
   ]
  },
  {
   "cell_type": "code",
   "execution_count": 5,
   "id": "add5948e",
   "metadata": {},
   "outputs": [
    {
     "data": {
      "text/plain": [
       "(1609, 10)"
      ]
     },
     "execution_count": 5,
     "metadata": {},
     "output_type": "execute_result"
    }
   ],
   "source": [
    "df.shape"
   ]
  },
  {
   "cell_type": "markdown",
   "id": "3b38869d",
   "metadata": {},
   "source": [
    "- There are 1609 unique customer reviews in the dataset"
   ]
  },
  {
   "cell_type": "code",
   "execution_count": 6,
   "id": "795eecfe",
   "metadata": {},
   "outputs": [
    {
     "name": "stdout",
     "output_type": "stream",
     "text": [
      "<class 'pandas.core.frame.DataFrame'>\n",
      "RangeIndex: 1609 entries, 0 to 1608\n",
      "Data columns (total 10 columns):\n",
      " #   Column                Non-Null Count  Dtype \n",
      "---  ------                --------------  ----- \n",
      " 0   reviewId              1609 non-null   object\n",
      " 1   userName              1609 non-null   object\n",
      " 2   userImage             1609 non-null   object\n",
      " 3   reviews               1609 non-null   object\n",
      " 4   score                 1609 non-null   int64 \n",
      " 5   thumbsUpCount         1609 non-null   int64 \n",
      " 6   reviewCreatedVersion  1237 non-null   object\n",
      " 7   at                    1609 non-null   object\n",
      " 8   replyContent          1492 non-null   object\n",
      " 9   repliedAt             1492 non-null   object\n",
      "dtypes: int64(2), object(8)\n",
      "memory usage: 125.8+ KB\n"
     ]
    }
   ],
   "source": [
    "df.info()"
   ]
  },
  {
   "cell_type": "markdown",
   "id": "679b34ab",
   "metadata": {},
   "source": [
    "- we can observe that columns `at` and `repliedAt` which are both dates seems to be object dtype\n",
    "- we will need to convert them to their appropriate datatype which is 'DateTime'"
   ]
  },
  {
   "cell_type": "code",
   "execution_count": 7,
   "id": "3857cf10",
   "metadata": {},
   "outputs": [
    {
     "name": "stdout",
     "output_type": "stream",
     "text": [
      "datetime64[ns]\n",
      "datetime64[ns]\n"
     ]
    }
   ],
   "source": [
    "# Convert 'repliedAt' and 'at' columns to datatime dtype\n",
    "df[\"repliedAt\"] = pd.to_datetime(df[\"repliedAt\"])\n",
    "df[\"at\"] = pd.to_datetime(df[\"at\"])\n",
    "print(df[\"at\"].dtype)\n",
    "print(df[\"repliedAt\"].dtype)"
   ]
  },
  {
   "cell_type": "code",
   "execution_count": 8,
   "id": "4e50cf80",
   "metadata": {},
   "outputs": [
    {
     "data": {
      "text/plain": [
       "reviewId                  0\n",
       "userName                  0\n",
       "userImage                 0\n",
       "reviews                   0\n",
       "score                     0\n",
       "thumbsUpCount             0\n",
       "reviewCreatedVersion    372\n",
       "at                        0\n",
       "replyContent            117\n",
       "repliedAt               117\n",
       "dtype: int64"
      ]
     },
     "execution_count": 8,
     "metadata": {},
     "output_type": "execute_result"
    }
   ],
   "source": [
    "# Check for null cells\n",
    "df.isnull().sum()"
   ]
  },
  {
   "cell_type": "markdown",
   "id": "f300b15a",
   "metadata": {},
   "source": [
    "- There are 117 customers reviews with no response from the developers\n",
    "- There are 372 records of the irorun aoo version of the customer at that time."
   ]
  },
  {
   "cell_type": "code",
   "execution_count": 9,
   "id": "789db77e",
   "metadata": {},
   "outputs": [
    {
     "data": {
      "text/plain": [
       "5    0.459291\n",
       "1    0.346799\n",
       "4    0.088875\n",
       "3    0.055935\n",
       "2    0.049099\n",
       "Name: score, dtype: float64"
      ]
     },
     "execution_count": 9,
     "metadata": {},
     "output_type": "execute_result"
    }
   ],
   "source": [
    "# calculate the ratings distribution\n",
    "ratings = df[\"score\"].value_counts(normalize=True)\n",
    "ratings"
   ]
  },
  {
   "cell_type": "markdown",
   "id": "c423bc8f",
   "metadata": {},
   "source": [
    "- about 46% of the dataset was rated 5 star rating\n",
    "- and about 35% of the dataset was rated 1 star rating"
   ]
  },
  {
   "cell_type": "code",
   "execution_count": 10,
   "id": "35907351",
   "metadata": {},
   "outputs": [
    {
     "data": {
      "image/png": "[encoded data removed]",
      "text/plain": [
       "<Figure size 640x480 with 1 Axes>"
      ]
     },
     "metadata": {},
     "output_type": "display_data"
    }
   ],
   "source": [
    "sns.countplot(x=df[\"score\"])\n",
    "plt.title(\"Star_rating Distribution\")\n",
    "plt.show()"
   ]
  },
  {
   "cell_type": "markdown",
   "id": "5d6d3d4d",
   "metadata": {},
   "source": [
    "* For the purpose of this analysis we will focus on the 1 star rating reviews to gain more insights"
   ]
  },
  {
   "cell_type": "code",
   "execution_count": 11,
   "id": "0d088602",
   "metadata": {},
   "outputs": [
    {
     "data": {
      "text/plain": [
       "0      1141\n",
       "1       137\n",
       "2       117\n",
       "3        90\n",
       "4        25\n",
       "5        13\n",
       "6         8\n",
       "8         6\n",
       "7         6\n",
       "9         5\n",
       "13        4\n",
       "10        4\n",
       "26        4\n",
       "21        3\n",
       "12        3\n",
       "17        3\n",
       "40        3\n",
       "11        3\n",
       "23        3\n",
       "14        3\n",
       "22        3\n",
       "55        2\n",
       "48        2\n",
       "28        2\n",
       "32        2\n",
       "66        1\n",
       "51        1\n",
       "114       1\n",
       "25        1\n",
       "30        1\n",
       "65        1\n",
       "35        1\n",
       "24        1\n",
       "57        1\n",
       "67        1\n",
       "16        1\n",
       "43        1\n",
       "15        1\n",
       "45        1\n",
       "124       1\n",
       "20        1\n",
       "19        1\n",
       "Name: thumbsUpCount, dtype: int64"
      ]
     },
     "execution_count": 11,
     "metadata": {},
     "output_type": "execute_result"
    }
   ],
   "source": [
    "# count the reviews with the highest number of likes\n",
    "df[\"thumbsUpCount\"].value_counts()"
   ]
  },
  {
   "cell_type": "markdown",
   "id": "ba4c8c85",
   "metadata": {},
   "source": []
  },
  {
   "cell_type": "code",
   "execution_count": 12,
   "id": "201dae2b",
   "metadata": {},
   "outputs": [
    {
     "data": {
      "text/html": [
       "<div>\n",
       "<style scoped>\n",
       "    .dataframe tbody tr th:only-of-type {\n",
       "        vertical-align: middle;\n",
       "    }\n",
       "\n",
       "    .dataframe tbody tr th {\n",
       "        vertical-align: top;\n",
       "    }\n",
       "\n",
       "    .dataframe thead th {\n",
       "        text-align: right;\n",
       "    }\n",
       "</style>\n",
       "<table border=\"1\" class=\"dataframe\">\n",
       "  <thead>\n",
       "    <tr style=\"text-align: right;\">\n",
       "      <th></th>\n",
       "      <th>userName</th>\n",
       "      <th>reviews</th>\n",
       "      <th>score</th>\n",
       "      <th>thumbsUpCount</th>\n",
       "      <th>reviewCreatedVersion</th>\n",
       "      <th>replyContent</th>\n",
       "    </tr>\n",
       "  </thead>\n",
       "  <tbody>\n",
       "    <tr>\n",
       "      <th>579</th>\n",
       "      <td>Kalu Azu</td>\n",
       "      <td>Irorun provides fast access to loans with no c...</td>\n",
       "      <td>5</td>\n",
       "      <td>124</td>\n",
       "      <td>NaN</td>\n",
       "      <td>We are pleased that you enjoyed the app. If th...</td>\n",
       "    </tr>\n",
       "    <tr>\n",
       "      <th>1373</th>\n",
       "      <td>sunday ekong</td>\n",
       "      <td>I do really loved their loan processing, it wa...</td>\n",
       "      <td>4</td>\n",
       "      <td>114</td>\n",
       "      <td>10.5</td>\n",
       "      <td>Hello Sunday,\\n\\nThank you for the feedback. Y...</td>\n",
       "    </tr>\n",
       "    <tr>\n",
       "      <th>867</th>\n",
       "      <td>Charles DolmicA</td>\n",
       "      <td>For me,my experience is so terrible thatal at ...</td>\n",
       "      <td>1</td>\n",
       "      <td>67</td>\n",
       "      <td>11.4</td>\n",
       "      <td>Hello Charles, we regret to note this. Please ...</td>\n",
       "    </tr>\n",
       "    <tr>\n",
       "      <th>1036</th>\n",
       "      <td>Ahmed Ramon</td>\n",
       "      <td>I'm satisfied with this IRORUN LOAN... their s...</td>\n",
       "      <td>5</td>\n",
       "      <td>66</td>\n",
       "      <td>11.2</td>\n",
       "      <td>Thank you for your encouraging words.??????????</td>\n",
       "    </tr>\n",
       "    <tr>\n",
       "      <th>1466</th>\n",
       "      <td>Timi Okedele</td>\n",
       "      <td>The app keeps crashing during registration whi...</td>\n",
       "      <td>1</td>\n",
       "      <td>65</td>\n",
       "      <td>10.4</td>\n",
       "      <td>We apologise for the difficulties you experien...</td>\n",
       "    </tr>\n",
       "  </tbody>\n",
       "</table>\n",
       "</div>"
      ],
      "text/plain": [
       "             userName                                            reviews  \\\n",
       "579          Kalu Azu  Irorun provides fast access to loans with no c...   \n",
       "1373     sunday ekong  I do really loved their loan processing, it wa...   \n",
       "867   Charles DolmicA  For me,my experience is so terrible thatal at ...   \n",
       "1036      Ahmed Ramon  I'm satisfied with this IRORUN LOAN... their s...   \n",
       "1466     Timi Okedele  The app keeps crashing during registration whi...   \n",
       "\n",
       "      score  thumbsUpCount reviewCreatedVersion  \\\n",
       "579       5            124                  NaN   \n",
       "1373      4            114                 10.5   \n",
       "867       1             67                 11.4   \n",
       "1036      5             66                 11.2   \n",
       "1466      1             65                 10.4   \n",
       "\n",
       "                                           replyContent  \n",
       "579   We are pleased that you enjoyed the app. If th...  \n",
       "1373  Hello Sunday,\\n\\nThank you for the feedback. Y...  \n",
       "867   Hello Charles, we regret to note this. Please ...  \n",
       "1036    Thank you for your encouraging words.??????????  \n",
       "1466  We apologise for the difficulties you experien...  "
      ]
     },
     "execution_count": 12,
     "metadata": {},
     "output_type": "execute_result"
    }
   ],
   "source": [
    "# let's examine the most liked reviews `thumbsUpCount`\n",
    "\n",
    "df_filtered = df[[\"userName\", \"reviews\", \"score\", \"thumbsUpCount\", \"reviewCreatedVersion\", \"replyContent\" ]]\n",
    "df_sorted = df_filtered.sort_values(\"thumbsUpCount\", ascending = False)\n",
    "df_sorted.head()"
   ]
  },
  {
   "cell_type": "markdown",
   "id": "4da92cc0",
   "metadata": {},
   "source": [
    "- at a quick glance we can will notice that there are both recent high and low star rating `score`\n",
    "- we will closely examine the top 3 most liked comment to gain more insights"
   ]
  },
  {
   "cell_type": "code",
   "execution_count": 13,
   "id": "6d61ed6b",
   "metadata": {},
   "outputs": [
    {
     "data": {
      "text/plain": [
       "\"Irorun provides fast access to loans with no collaterals but with peace of mind, this app makes it easy for you to access loans just when you need it. Sign up in a few seconds, apply for a loan, and receive your money into your wallet. You can transfer to your bank accounts immediately. It's a fast, convenient, and reliable way to fix your spending gap. great app i recommend it to all.\""
      ]
     },
     "execution_count": 13,
     "metadata": {},
     "output_type": "execute_result"
    }
   ],
   "source": [
    "# lets obeserve the most liked review\n",
    "most_liked = df_sorted.iloc[0][\"reviews\"]\n",
    "most_liked"
   ]
  },
  {
   "cell_type": "code",
   "execution_count": 14,
   "id": "9bb86f90",
   "metadata": {},
   "outputs": [
    {
     "data": {
      "text/plain": [
       "\"I do really loved their loan processing, it was quite faster and simple no too much of questioning nor filling of unnecessary info. But again their loan period are good and their interest rate are quitely perfect for any one to go for ...but though I'm yet to receive my first loan ever from them... I think they are good to go for friends!\""
      ]
     },
     "execution_count": 14,
     "metadata": {},
     "output_type": "execute_result"
    }
   ],
   "source": [
    "# the second most liked review\n",
    "second_ml = df_sorted.iloc[1][\"reviews\"]\n",
    "second_ml"
   ]
  },
  {
   "cell_type": "code",
   "execution_count": 15,
   "id": "71ace8d1",
   "metadata": {},
   "outputs": [
    {
     "data": {
      "text/plain": [
       "'For me,my experience is so terrible thatal at the point I needed money,the loan took so long before running,now the money was kept in the wallet,I transferred it expecting it to appear in my acct,since yesterday,till forever sef if not seen it,I went to bank to check no disburstment. On the 10 the of december.am sure u know No repayment for such loan'"
      ]
     },
     "execution_count": 15,
     "metadata": {},
     "output_type": "execute_result"
    }
   ],
   "source": [
    "# the third most liked review\n",
    "third_ml = df_sorted.iloc[2][\"reviews\"]\n",
    "third_ml"
   ]
  },
  {
   "cell_type": "code",
   "execution_count": 16,
   "id": "64c3cd27",
   "metadata": {},
   "outputs": [
    {
     "name": "stdout",
     "output_type": "stream",
     "text": [
      "The first customer' review was at 2020-07-08 15:58:01\n"
     ]
    }
   ],
   "source": [
    "# determine the date of the first review\n",
    "first_review = df[\"at\"].min()\n",
    "print(f\"The first customer' review was at {first_review}\")"
   ]
  },
  {
   "cell_type": "code",
   "execution_count": 17,
   "id": "fe3f09db",
   "metadata": {},
   "outputs": [
    {
     "name": "stdout",
     "output_type": "stream",
     "text": [
      "The most recent review within the dataset was at 2023-03-19 20:18:56\n"
     ]
    }
   ],
   "source": [
    "# the last review in this dataset\n",
    "recent_review = df[\"at\"].max()\n",
    "print(f\"The most recent review within the dataset was at {recent_review}\")"
   ]
  },
  {
   "cell_type": "markdown",
   "id": "0069107e",
   "metadata": {},
   "source": [
    "* the most recent review is most likely the first review to be viewed by a potental customer browsing, hence we will take close look at it"
   ]
  },
  {
   "cell_type": "code",
   "execution_count": 18,
   "id": "83250d7d",
   "metadata": {},
   "outputs": [
    {
     "data": {
      "text/html": [
       "<div>\n",
       "<style scoped>\n",
       "    .dataframe tbody tr th:only-of-type {\n",
       "        vertical-align: middle;\n",
       "    }\n",
       "\n",
       "    .dataframe tbody tr th {\n",
       "        vertical-align: top;\n",
       "    }\n",
       "\n",
       "    .dataframe thead th {\n",
       "        text-align: right;\n",
       "    }\n",
       "</style>\n",
       "<table border=\"1\" class=\"dataframe\">\n",
       "  <thead>\n",
       "    <tr style=\"text-align: right;\">\n",
       "      <th></th>\n",
       "      <th>reviewId</th>\n",
       "      <th>userName</th>\n",
       "      <th>userImage</th>\n",
       "      <th>reviews</th>\n",
       "      <th>score</th>\n",
       "      <th>thumbsUpCount</th>\n",
       "      <th>reviewCreatedVersion</th>\n",
       "      <th>at</th>\n",
       "      <th>replyContent</th>\n",
       "      <th>repliedAt</th>\n",
       "    </tr>\n",
       "  </thead>\n",
       "  <tbody>\n",
       "    <tr>\n",
       "      <th>0</th>\n",
       "      <td>074b6496-832a-4d94-aaaf-088542998303</td>\n",
       "      <td>adeniyi muyiwa</td>\n",
       "      <td>https://play-lh.googleusercontent.com/a/AGNmyx...</td>\n",
       "      <td>Why is it so difficult in getting through to t...</td>\n",
       "      <td>1</td>\n",
       "      <td>0</td>\n",
       "      <td>14.4</td>\n",
       "      <td>2023-03-19 20:18:56</td>\n",
       "      <td>NaN</td>\n",
       "      <td>NaT</td>\n",
       "    </tr>\n",
       "    <tr>\n",
       "      <th>1</th>\n",
       "      <td>063b9d48-30be-4e08-9878-913b94721e50</td>\n",
       "      <td>Robel Mazengia</td>\n",
       "      <td>https://play-lh.googleusercontent.com/a/AGNmyx...</td>\n",
       "      <td>Efficient loan application and approval proces...</td>\n",
       "      <td>5</td>\n",
       "      <td>0</td>\n",
       "      <td>14.3</td>\n",
       "      <td>2023-03-19 03:57:56</td>\n",
       "      <td>NaN</td>\n",
       "      <td>NaT</td>\n",
       "    </tr>\n",
       "    <tr>\n",
       "      <th>2</th>\n",
       "      <td>d798fda8-303d-441d-8281-bfec50ab9cbd</td>\n",
       "      <td>SAFARì</td>\n",
       "      <td>https://play-lh.googleusercontent.com/a-/ACB-R...</td>\n",
       "      <td>Needs an update, it crashes upon completing lo...</td>\n",
       "      <td>1</td>\n",
       "      <td>0</td>\n",
       "      <td>14.3</td>\n",
       "      <td>2023-03-19 01:18:21</td>\n",
       "      <td>NaN</td>\n",
       "      <td>NaT</td>\n",
       "    </tr>\n",
       "    <tr>\n",
       "      <th>3</th>\n",
       "      <td>846b3fb7-60df-4d13-873f-1398a7d6d38f</td>\n",
       "      <td>Ayodele Temitope</td>\n",
       "      <td>https://play-lh.googleusercontent.com/a-/ACB-R...</td>\n",
       "      <td>The app is quick, nice design with monochromat...</td>\n",
       "      <td>4</td>\n",
       "      <td>0</td>\n",
       "      <td>14.3</td>\n",
       "      <td>2023-03-18 19:15:48</td>\n",
       "      <td>NaN</td>\n",
       "      <td>NaT</td>\n",
       "    </tr>\n",
       "    <tr>\n",
       "      <th>4</th>\n",
       "      <td>70355c77-26c8-457f-89da-3b9e778ecd73</td>\n",
       "      <td>Afolabi Oluwapelumi</td>\n",
       "      <td>https://play-lh.googleusercontent.com/a/AGNmyx...</td>\n",
       "      <td>Nice app. However you should also consider off...</td>\n",
       "      <td>4</td>\n",
       "      <td>0</td>\n",
       "      <td>NaN</td>\n",
       "      <td>2023-03-18 17:58:52</td>\n",
       "      <td>NaN</td>\n",
       "      <td>NaT</td>\n",
       "    </tr>\n",
       "  </tbody>\n",
       "</table>\n",
       "</div>"
      ],
      "text/plain": [
       "                               reviewId             userName  \\\n",
       "0  074b6496-832a-4d94-aaaf-088542998303       adeniyi muyiwa   \n",
       "1  063b9d48-30be-4e08-9878-913b94721e50       Robel Mazengia   \n",
       "2  d798fda8-303d-441d-8281-bfec50ab9cbd               SAFARì   \n",
       "3  846b3fb7-60df-4d13-873f-1398a7d6d38f     Ayodele Temitope   \n",
       "4  70355c77-26c8-457f-89da-3b9e778ecd73  Afolabi Oluwapelumi   \n",
       "\n",
       "                                           userImage  \\\n",
       "0  https://play-lh.googleusercontent.com/a/AGNmyx...   \n",
       "1  https://play-lh.googleusercontent.com/a/AGNmyx...   \n",
       "2  https://play-lh.googleusercontent.com/a-/ACB-R...   \n",
       "3  https://play-lh.googleusercontent.com/a-/ACB-R...   \n",
       "4  https://play-lh.googleusercontent.com/a/AGNmyx...   \n",
       "\n",
       "                                             reviews  score  thumbsUpCount  \\\n",
       "0  Why is it so difficult in getting through to t...      1              0   \n",
       "1  Efficient loan application and approval proces...      5              0   \n",
       "2  Needs an update, it crashes upon completing lo...      1              0   \n",
       "3  The app is quick, nice design with monochromat...      4              0   \n",
       "4  Nice app. However you should also consider off...      4              0   \n",
       "\n",
       "  reviewCreatedVersion                  at replyContent repliedAt  \n",
       "0                 14.4 2023-03-19 20:18:56          NaN       NaT  \n",
       "1                 14.3 2023-03-19 03:57:56          NaN       NaT  \n",
       "2                 14.3 2023-03-19 01:18:21          NaN       NaT  \n",
       "3                 14.3 2023-03-18 19:15:48          NaN       NaT  \n",
       "4                  NaN 2023-03-18 17:58:52          NaN       NaT  "
      ]
     },
     "execution_count": 18,
     "metadata": {},
     "output_type": "execute_result"
    }
   ],
   "source": [
    "# Sort the dataset showing from recent to older reviews\n",
    "sorted_df = df.sort_values(\"at\", ascending=False)\n",
    "sorted_df.head()"
   ]
  },
  {
   "cell_type": "code",
   "execution_count": 19,
   "id": "0da087dd",
   "metadata": {},
   "outputs": [
    {
     "data": {
      "text/plain": [
       "'Why is it so difficult in getting through to the dashboard after inputing password and necessary details.'"
      ]
     },
     "execution_count": 19,
     "metadata": {},
     "output_type": "execute_result"
    }
   ],
   "source": [
    "# close examination of the latest review\n",
    "recent_review = sorted_df.iloc[0][\"reviews\"]\n",
    "recent_review"
   ]
  },
  {
   "cell_type": "markdown",
   "id": "165ee783",
   "metadata": {},
   "source": [
    "### Feature Engineering\n",
    "- We are going to create a new feature called `duration`\n",
    "- `duration` is the time taken (in days) for support to reply a customer's review\n",
    "---------\n",
    "- we will also create a new feature `year`\n",
    "-`year`- consist of the year each review was created"
   ]
  },
  {
   "cell_type": "code",
   "execution_count": 20,
   "id": "cef05df8",
   "metadata": {},
   "outputs": [],
   "source": [
    "# Calculate the number of days it took before each review got a reply\n",
    "df[\"duration\"] = (df[\"repliedAt\"] - df[\"at\"]).dt.days"
   ]
  },
  {
   "cell_type": "code",
   "execution_count": 21,
   "id": "febc2029",
   "metadata": {},
   "outputs": [
    {
     "data": {
      "text/plain": [
       "196.0"
      ]
     },
     "execution_count": 21,
     "metadata": {},
     "output_type": "execute_result"
    }
   ],
   "source": [
    "df[\"duration\"].max()"
   ]
  },
  {
   "cell_type": "code",
   "execution_count": 22,
   "id": "0a445e7b",
   "metadata": {},
   "outputs": [
    {
     "data": {
      "text/plain": [
       "-589.0"
      ]
     },
     "execution_count": 22,
     "metadata": {},
     "output_type": "execute_result"
    }
   ],
   "source": [
    "df[\"duration\"].min()"
   ]
  },
  {
   "cell_type": "markdown",
   "id": "edd3b565",
   "metadata": {},
   "source": [
    "- it is impossible to have a negative reponse time"
   ]
  },
  {
   "cell_type": "code",
   "execution_count": 23,
   "id": "12c822a0",
   "metadata": {},
   "outputs": [
    {
     "name": "stdout",
     "output_type": "stream",
     "text": [
      "There are 82 negative duration\n"
     ]
    }
   ],
   "source": [
    "negative_duration = len(df[df[\"duration\"]<0])\n",
    "print(f\"There are {negative_duration} negative duration\")"
   ]
  },
  {
   "cell_type": "code",
   "execution_count": 24,
   "id": "d2173b2e",
   "metadata": {},
   "outputs": [],
   "source": [
    "# Drop all negative duration values\n",
    "new_df = df.drop(df[df[\"duration\"]<0].index)"
   ]
  },
  {
   "cell_type": "code",
   "execution_count": 25,
   "id": "6a74919e",
   "metadata": {},
   "outputs": [
    {
     "data": {
      "image/png": "[encoded data removed]",
      "text/plain": [
       "<Figure size 640x480 with 1 Axes>"
      ]
     },
     "metadata": {},
     "output_type": "display_data"
    }
   ],
   "source": [
    "sns.boxplot(x=\"duration\", data=new_df, sym=\"\")\n",
    "plt.title(\"Response time (days) distribution\")\n",
    "plt.show()"
   ]
  },
  {
   "cell_type": "code",
   "execution_count": 26,
   "id": "18f605dc",
   "metadata": {},
   "outputs": [
    {
     "data": {
      "text/plain": [
       "3.0645390070921987"
      ]
     },
     "execution_count": 26,
     "metadata": {},
     "output_type": "execute_result"
    }
   ],
   "source": [
    "new_df[\"duration\"].mean()"
   ]
  },
  {
   "cell_type": "code",
   "execution_count": 27,
   "id": "89da7254",
   "metadata": {},
   "outputs": [
    {
     "data": {
      "text/plain": [
       "0.486582880967408"
      ]
     },
     "execution_count": 27,
     "metadata": {},
     "output_type": "execute_result"
    }
   ],
   "source": [
    "# what is the probability of getting an early reply (<=2 days)\n",
    "expon.cdf(2, scale=3)"
   ]
  },
  {
   "cell_type": "markdown",
   "id": "880722bf",
   "metadata": {},
   "source": [
    "- there is about a 50% chance of getting an early reply "
   ]
  },
  {
   "cell_type": "code",
   "execution_count": 28,
   "id": "e629ff90",
   "metadata": {},
   "outputs": [],
   "source": [
    "# Create a new feature of the the year each review was created\n",
    "df[\"year\"] = df[\"at\"].dt.year"
   ]
  },
  {
   "cell_type": "code",
   "execution_count": 29,
   "id": "08ae2934",
   "metadata": {},
   "outputs": [
    {
     "data": {
      "image/png": "[encoded data removed]",
      "text/plain": [
       "<Figure size 640x480 with 1 Axes>"
      ]
     },
     "metadata": {},
     "output_type": "display_data"
    },
    {
     "data": {
      "text/plain": [
       "<Figure size 2000x1000 with 0 Axes>"
      ]
     },
     "metadata": {},
     "output_type": "display_data"
    }
   ],
   "source": [
    "# Create a line chart of score over time\n",
    "\n",
    "g=sns.lineplot(x=\"year\", y=\"score\", data=df, ci=None)\n",
    "plt.figure(figsize=(20, 10))\n",
    "g.set_title(\"YoY `Irorun` Star ratings\", y=1.03)\n",
    "plt.show()"
   ]
  },
  {
   "cell_type": "markdown",
   "id": "7f50d4ae",
   "metadata": {},
   "source": [
    "- there was a rapid increase in `Irorun` app rating from 2020 to early 2021\n",
    "- it lost the momentum in 2021 and it has been gradually raising till 2023"
   ]
  },
  {
   "cell_type": "code",
   "execution_count": 30,
   "id": "a2e05208",
   "metadata": {},
   "outputs": [
    {
     "data": {
      "text/plain": [
       "<seaborn.axisgrid.FacetGrid at 0x1a792bfeb80>"
      ]
     },
     "execution_count": 30,
     "metadata": {},
     "output_type": "execute_result"
    },
    {
     "data": {
      "image/png": "[encoded data removed]",
      "text/plain": [
       "<Figure size 623.986x500 with 1 Axes>"
      ]
     },
     "metadata": {},
     "output_type": "display_data"
    }
   ],
   "source": [
    "# Checking for correlation between star rating and app version\n",
    "sns.relplot(x=\"reviewCreatedVersion\", y=\"score\", data=df, kind=\"scatter\", size=\"thumbsUpCount\")"
   ]
  },
  {
   "cell_type": "code",
   "execution_count": 31,
   "id": "254c7fa2",
   "metadata": {},
   "outputs": [
    {
     "data": {
      "image/png": "[encoded data removed]",
      "text/plain": [
       "<Figure size 640x480 with 2 Axes>"
      ]
     },
     "metadata": {},
     "output_type": "display_data"
    }
   ],
   "source": [
    "# Plot a heatmap showing relationships\n",
    "sns.heatmap(df.corr(), annot=True)\n",
    "plt.show()"
   ]
  },
  {
   "cell_type": "markdown",
   "id": "09f31934",
   "metadata": {},
   "source": [
    "Assumptions\n",
    "----\n",
    "Here are some assumptions used moving forward;\n",
    "* all `duration` greater than 2 days are consided as `late_reply`\n",
    "* all `duration` less than equal to 2 days are consided as `early_reply`\n",
    "* all Null cells in  `repliedAt` are labeled `no_reply`"
   ]
  },
  {
   "cell_type": "code",
   "execution_count": 32,
   "id": "9702569c",
   "metadata": {},
   "outputs": [
    {
     "data": {
      "text/html": [
       "<div>\n",
       "<style scoped>\n",
       "    .dataframe tbody tr th:only-of-type {\n",
       "        vertical-align: middle;\n",
       "    }\n",
       "\n",
       "    .dataframe tbody tr th {\n",
       "        vertical-align: top;\n",
       "    }\n",
       "\n",
       "    .dataframe thead th {\n",
       "        text-align: right;\n",
       "    }\n",
       "</style>\n",
       "<table border=\"1\" class=\"dataframe\">\n",
       "  <thead>\n",
       "    <tr style=\"text-align: right;\">\n",
       "      <th></th>\n",
       "      <th>userName</th>\n",
       "      <th>reviews</th>\n",
       "      <th>score</th>\n",
       "      <th>replyContent</th>\n",
       "      <th>at</th>\n",
       "      <th>repliedAt</th>\n",
       "      <th>duration</th>\n",
       "    </tr>\n",
       "  </thead>\n",
       "  <tbody>\n",
       "    <tr>\n",
       "      <th>1465</th>\n",
       "      <td>Anita Ifunanya</td>\n",
       "      <td>I don't understand they keep asking me for my ...</td>\n",
       "      <td>1</td>\n",
       "      <td>Hi Anita, the referral code (which isn't compu...</td>\n",
       "      <td>2021-03-23 17:26:39</td>\n",
       "      <td>2021-10-06 14:56:22</td>\n",
       "      <td>196.0</td>\n",
       "    </tr>\n",
       "    <tr>\n",
       "      <th>1608</th>\n",
       "      <td>HAMMED ISMAIL</td>\n",
       "      <td>D must useless app dnt waste ur data</td>\n",
       "      <td>1</td>\n",
       "      <td>Hello Hammad, We can confirm that you were abl...</td>\n",
       "      <td>2020-07-08 15:58:01</td>\n",
       "      <td>2020-11-19 08:12:12</td>\n",
       "      <td>133.0</td>\n",
       "    </tr>\n",
       "    <tr>\n",
       "      <th>595</th>\n",
       "      <td>Philomina Obianuju</td>\n",
       "      <td>Woow this is an amazing app. At first I though...</td>\n",
       "      <td>5</td>\n",
       "      <td>Thankd for the good feedback. You're far too k...</td>\n",
       "      <td>2022-08-20 01:00:59</td>\n",
       "      <td>2022-12-26 00:30:58</td>\n",
       "      <td>127.0</td>\n",
       "    </tr>\n",
       "    <tr>\n",
       "      <th>594</th>\n",
       "      <td>afiz billiaminu</td>\n",
       "      <td>To me, it's not a good loan platform... Loan d...</td>\n",
       "      <td>1</td>\n",
       "      <td>Hello Afiz, We're sorry we couldn't provide yo...</td>\n",
       "      <td>2022-08-20 01:03:10</td>\n",
       "      <td>2022-12-25 23:32:39</td>\n",
       "      <td>127.0</td>\n",
       "    </tr>\n",
       "    <tr>\n",
       "      <th>592</th>\n",
       "      <td>Ahmed Babalola</td>\n",
       "      <td>ReLiable</td>\n",
       "      <td>5</td>\n",
       "      <td>Thankd for the good feedback. You're far too k...</td>\n",
       "      <td>2022-08-20 19:45:37</td>\n",
       "      <td>2022-12-26 00:30:50</td>\n",
       "      <td>127.0</td>\n",
       "    </tr>\n",
       "  </tbody>\n",
       "</table>\n",
       "</div>"
      ],
      "text/plain": [
       "                userName                                            reviews  \\\n",
       "1465      Anita Ifunanya  I don't understand they keep asking me for my ...   \n",
       "1608       HAMMED ISMAIL               D must useless app dnt waste ur data   \n",
       "595   Philomina Obianuju  Woow this is an amazing app. At first I though...   \n",
       "594      afiz billiaminu  To me, it's not a good loan platform... Loan d...   \n",
       "592       Ahmed Babalola                                           ReLiable   \n",
       "\n",
       "      score                                       replyContent  \\\n",
       "1465      1  Hi Anita, the referral code (which isn't compu...   \n",
       "1608      1  Hello Hammad, We can confirm that you were abl...   \n",
       "595       5  Thankd for the good feedback. You're far too k...   \n",
       "594       1  Hello Afiz, We're sorry we couldn't provide yo...   \n",
       "592       5  Thankd for the good feedback. You're far too k...   \n",
       "\n",
       "                      at           repliedAt  duration  \n",
       "1465 2021-03-23 17:26:39 2021-10-06 14:56:22     196.0  \n",
       "1608 2020-07-08 15:58:01 2020-11-19 08:12:12     133.0  \n",
       "595  2022-08-20 01:00:59 2022-12-26 00:30:58     127.0  \n",
       "594  2022-08-20 01:03:10 2022-12-25 23:32:39     127.0  \n",
       "592  2022-08-20 19:45:37 2022-12-26 00:30:50     127.0  "
      ]
     },
     "execution_count": 32,
     "metadata": {},
     "output_type": "execute_result"
    }
   ],
   "source": [
    "# Replies that took more than two days `late_reply`\n",
    "df_filter = df[[\"userName\", \"reviews\", \"score\", \"replyContent\", \"at\", \"repliedAt\",\"duration\" ]]\n",
    "late_reply = df_filter[df_filter[\"duration\"]>2]\n",
    "late_reply = late_reply.sort_values(\"duration\", ascending=False)\n",
    "late_reply.head()"
   ]
  },
  {
   "cell_type": "code",
   "execution_count": 33,
   "id": "cdcccdd1",
   "metadata": {},
   "outputs": [
    {
     "name": "stdout",
     "output_type": "stream",
     "text": [
      "The numner of late replies were: 267\n"
     ]
    }
   ],
   "source": [
    "# number of late replies\n",
    "late_replies = len(late_reply)\n",
    "print(f\"The numner of late replies were:\", late_replies)"
   ]
  },
  {
   "cell_type": "code",
   "execution_count": 34,
   "id": "9998f52f",
   "metadata": {},
   "outputs": [
    {
     "name": "stdout",
     "output_type": "stream",
     "text": [
      "The number of reviews that had no reply were: 117\n"
     ]
    }
   ],
   "source": [
    "# number of reviews with no reply\n",
    "no_reply = df[\"repliedAt\"].isnull().sum()\n",
    "print(f\"The number of reviews that had no reply were:\", no_reply)"
   ]
  },
  {
   "cell_type": "code",
   "execution_count": 35,
   "id": "57f984e1",
   "metadata": {},
   "outputs": [
    {
     "data": {
      "text/plain": [
       "1143"
      ]
     },
     "execution_count": 35,
     "metadata": {},
     "output_type": "execute_result"
    }
   ],
   "source": [
    "# number of reviews with early reply\n",
    "earl_reply = len(new_df[new_df[\"duration\"]<=2])\n",
    "earl_reply"
   ]
  },
  {
   "cell_type": "code",
   "execution_count": 42,
   "id": "602b3bab",
   "metadata": {},
   "outputs": [],
   "source": [
    "# Create a diction of replies\n",
    "replies = {\n",
    "    \"reply_type\": [\"early_reply\", \"late_reply\", \"no_reply\" ],\n",
    "    \"count\": [1143, 41, 117]\n",
    "}"
   ]
  },
  {
   "cell_type": "code",
   "execution_count": 43,
   "id": "30e37ae5",
   "metadata": {},
   "outputs": [
    {
     "data": {
      "text/html": [
       "<div>\n",
       "<style scoped>\n",
       "    .dataframe tbody tr th:only-of-type {\n",
       "        vertical-align: middle;\n",
       "    }\n",
       "\n",
       "    .dataframe tbody tr th {\n",
       "        vertical-align: top;\n",
       "    }\n",
       "\n",
       "    .dataframe thead th {\n",
       "        text-align: right;\n",
       "    }\n",
       "</style>\n",
       "<table border=\"1\" class=\"dataframe\">\n",
       "  <thead>\n",
       "    <tr style=\"text-align: right;\">\n",
       "      <th></th>\n",
       "      <th>reply_type</th>\n",
       "      <th>count</th>\n",
       "    </tr>\n",
       "  </thead>\n",
       "  <tbody>\n",
       "    <tr>\n",
       "      <th>0</th>\n",
       "      <td>early_reply</td>\n",
       "      <td>1143</td>\n",
       "    </tr>\n",
       "    <tr>\n",
       "      <th>1</th>\n",
       "      <td>late_reply</td>\n",
       "      <td>41</td>\n",
       "    </tr>\n",
       "    <tr>\n",
       "      <th>2</th>\n",
       "      <td>no_reply</td>\n",
       "      <td>117</td>\n",
       "    </tr>\n",
       "  </tbody>\n",
       "</table>\n",
       "</div>"
      ],
      "text/plain": [
       "    reply_type  count\n",
       "0  early_reply   1143\n",
       "1   late_reply     41\n",
       "2     no_reply    117"
      ]
     },
     "execution_count": 43,
     "metadata": {},
     "output_type": "execute_result"
    }
   ],
   "source": [
    "reply_df = pd.DataFrame(replies)\n",
    "reply_df"
   ]
  },
  {
   "cell_type": "code",
   "execution_count": 44,
   "id": "0a958e11",
   "metadata": {},
   "outputs": [
    {
     "data": {
      "image/png": "[encoded data removed]",
      "text/plain": [
       "<Figure size 640x480 with 1 Axes>"
      ]
     },
     "metadata": {},
     "output_type": "display_data"
    }
   ],
   "source": [
    "reply_df.plot(kind=\"bar\")\n",
    "\n",
    "# set custom x-axis tick labels\n",
    "xtick_labels =[ \"Early Reply\", \"Late Reply\", \"No Reply\" ]\n",
    "plt.gca().set_xticklabels(xtick_labels, rotation=45)\n",
    "\n",
    "plt.title(\" Distribution of `Irorun` Reply Type\")\n",
    "plt.xlabel(\"Reply Types\")\n",
    "plt.ylabel(\"Count\")\n",
    "plt.show()"
   ]
  }
 ],
 "metadata": {
  "kernelspec": {
   "display_name": "Python 3 (ipykernel)",
   "language": "python",
   "name": "python3"
  },
  "language_info": {
   "codemirror_mode": {
    "name": "ipython",
    "version": 3
   },
   "file_extension": ".py",
   "mimetype": "text/x-python",
   "name": "python",
   "nbconvert_exporter": "python",
   "pygments_lexer": "ipython3",
   "version": "3.9.13"
  }
 },
 "nbformat": 4,
 "nbformat_minor": 5
}
