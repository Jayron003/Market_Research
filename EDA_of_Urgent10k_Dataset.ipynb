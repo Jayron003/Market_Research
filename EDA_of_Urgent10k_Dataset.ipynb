{
 "cells": [
  {
   "cell_type": "markdown",
   "id": "98f3faac",
   "metadata": {},
   "source": [
    "# Exploratory Data Analysis\n",
    "We are going to perform an exploratory analysis on the scrapped `Urgent10k` data to gain some insight about the data.\n",
    "\n",
    "Feature information\n",
    "-----\n",
    "- `reviewId`- Unique identification key per review\n",
    "- `userName`- customer username\n",
    "- `userImage`- urrl to customer display picture\n",
    "- `reviews`- customer review \n",
    "- `score`- customer star rating\n",
    "- `thumbsUpCount`- total number of like per reviews\n",
    "- `reviewCreatedVersion`- customer app version as of the time of review\n",
    "- `at`- date and time review was posted.\n",
    "- `replyContent`- reply content per customer review\n",
    "- `repliedAt`- date and time of reply per customer review"
   ]
  },
  {
   "cell_type": "code",
   "execution_count": 1,
   "id": "e0f3276b",
   "metadata": {},
   "outputs": [],
   "source": [
    "# Import neccessary libraries\n",
    "import pandas as pd\n",
    "import seaborn as sns\n",
    "from scipy.stats import expon\n",
    "import matplotlib.pyplot as plt"
   ]
  },
  {
   "cell_type": "code",
   "execution_count": 2,
   "id": "8bb0bde3",
   "metadata": {},
   "outputs": [
    {
     "data": {
      "text/html": [
       "<div>\n",
       "<style scoped>\n",
       "    .dataframe tbody tr th:only-of-type {\n",
       "        vertical-align: middle;\n",
       "    }\n",
       "\n",
       "    .dataframe tbody tr th {\n",
       "        vertical-align: top;\n",
       "    }\n",
       "\n",
       "    .dataframe thead th {\n",
       "        text-align: right;\n",
       "    }\n",
       "</style>\n",
       "<table border=\"1\" class=\"dataframe\">\n",
       "  <thead>\n",
       "    <tr style=\"text-align: right;\">\n",
       "      <th></th>\n",
       "      <th>reviewId</th>\n",
       "      <th>userName</th>\n",
       "      <th>userImage</th>\n",
       "      <th>reviews</th>\n",
       "      <th>score</th>\n",
       "      <th>thumbsUpCount</th>\n",
       "      <th>reviewCreatedVersion</th>\n",
       "      <th>at</th>\n",
       "      <th>replyContent</th>\n",
       "      <th>repliedAt</th>\n",
       "    </tr>\n",
       "  </thead>\n",
       "  <tbody>\n",
       "    <tr>\n",
       "      <th>0</th>\n",
       "      <td>24a23f74-13ce-4bbe-a578-00aa7501ed5c</td>\n",
       "      <td>Anivungu Barnabas</td>\n",
       "      <td>https://play-lh.googleusercontent.com/a-/ACB-R...</td>\n",
       "      <td>Please, i download this app, i processed every...</td>\n",
       "      <td>1</td>\n",
       "      <td>0</td>\n",
       "      <td>1.9</td>\n",
       "      <td>2023-03-19 17:08:09</td>\n",
       "      <td>Hi, can you please send us your account detail...</td>\n",
       "      <td>2023-03-19 22:20:55</td>\n",
       "    </tr>\n",
       "    <tr>\n",
       "      <th>1</th>\n",
       "      <td>d73b3e41-88e0-49e7-af41-1632bcef9102</td>\n",
       "      <td>shawn keen</td>\n",
       "      <td>https://play-lh.googleusercontent.com/a-/ACB-R...</td>\n",
       "      <td>the app is thrash. keeps telling me my app is ...</td>\n",
       "      <td>1</td>\n",
       "      <td>0</td>\n",
       "      <td>1.9</td>\n",
       "      <td>2023-03-19 16:22:20</td>\n",
       "      <td>Hi, please email us a screenshot of the error ...</td>\n",
       "      <td>2023-03-19 22:22:54</td>\n",
       "    </tr>\n",
       "    <tr>\n",
       "      <th>2</th>\n",
       "      <td>69a7114e-a4e8-462a-8e8b-33eec4bd1e05</td>\n",
       "      <td>Chijioke Benneth</td>\n",
       "      <td>https://play-lh.googleusercontent.com/a-/ACB-R...</td>\n",
       "      <td>Well urgent10k is fast and easy to go well don...</td>\n",
       "      <td>3</td>\n",
       "      <td>0</td>\n",
       "      <td>1.9</td>\n",
       "      <td>2023-03-19 13:50:11</td>\n",
       "      <td>We appreciate the feedback! Please let us know...</td>\n",
       "      <td>2023-03-19 22:22:23</td>\n",
       "    </tr>\n",
       "    <tr>\n",
       "      <th>3</th>\n",
       "      <td>5c1a8902-719e-43b1-b8d4-55416f7510b8</td>\n",
       "      <td>Nwosu Sunday</td>\n",
       "      <td>https://play-lh.googleusercontent.com/a-/ACB-R...</td>\n",
       "      <td>Trash</td>\n",
       "      <td>1</td>\n",
       "      <td>0</td>\n",
       "      <td>1.9</td>\n",
       "      <td>2023-03-19 07:52:41</td>\n",
       "      <td>Hi, we are always looking to improve the exper...</td>\n",
       "      <td>2023-03-19 22:22:04</td>\n",
       "    </tr>\n",
       "    <tr>\n",
       "      <th>4</th>\n",
       "      <td>16a564b7-caa1-4d93-815c-b90f36f6d299</td>\n",
       "      <td>Nuhu Nganjiwa</td>\n",
       "      <td>https://play-lh.googleusercontent.com/a-/ACB-R...</td>\n",
       "      <td>Awesome app</td>\n",
       "      <td>5</td>\n",
       "      <td>0</td>\n",
       "      <td>1.9</td>\n",
       "      <td>2023-03-19 07:48:12</td>\n",
       "      <td>Thank you very much. Keep using our app :)</td>\n",
       "      <td>2023-03-19 22:21:33</td>\n",
       "    </tr>\n",
       "  </tbody>\n",
       "</table>\n",
       "</div>"
      ],
      "text/plain": [
       "                               reviewId           userName  \\\n",
       "0  24a23f74-13ce-4bbe-a578-00aa7501ed5c  Anivungu Barnabas   \n",
       "1  d73b3e41-88e0-49e7-af41-1632bcef9102         shawn keen   \n",
       "2  69a7114e-a4e8-462a-8e8b-33eec4bd1e05   Chijioke Benneth   \n",
       "3  5c1a8902-719e-43b1-b8d4-55416f7510b8       Nwosu Sunday   \n",
       "4  16a564b7-caa1-4d93-815c-b90f36f6d299      Nuhu Nganjiwa   \n",
       "\n",
       "                                           userImage  \\\n",
       "0  https://play-lh.googleusercontent.com/a-/ACB-R...   \n",
       "1  https://play-lh.googleusercontent.com/a-/ACB-R...   \n",
       "2  https://play-lh.googleusercontent.com/a-/ACB-R...   \n",
       "3  https://play-lh.googleusercontent.com/a-/ACB-R...   \n",
       "4  https://play-lh.googleusercontent.com/a-/ACB-R...   \n",
       "\n",
       "                                             reviews  score  thumbsUpCount  \\\n",
       "0  Please, i download this app, i processed every...      1              0   \n",
       "1  the app is thrash. keeps telling me my app is ...      1              0   \n",
       "2  Well urgent10k is fast and easy to go well don...      3              0   \n",
       "3                                              Trash      1              0   \n",
       "4                                        Awesome app      5              0   \n",
       "\n",
       "   reviewCreatedVersion                   at  \\\n",
       "0                   1.9  2023-03-19 17:08:09   \n",
       "1                   1.9  2023-03-19 16:22:20   \n",
       "2                   1.9  2023-03-19 13:50:11   \n",
       "3                   1.9  2023-03-19 07:52:41   \n",
       "4                   1.9  2023-03-19 07:48:12   \n",
       "\n",
       "                                        replyContent            repliedAt  \n",
       "0  Hi, can you please send us your account detail...  2023-03-19 22:20:55  \n",
       "1  Hi, please email us a screenshot of the error ...  2023-03-19 22:22:54  \n",
       "2  We appreciate the feedback! Please let us know...  2023-03-19 22:22:23  \n",
       "3  Hi, we are always looking to improve the exper...  2023-03-19 22:22:04  \n",
       "4         Thank you very much. Keep using our app :)  2023-03-19 22:21:33  "
      ]
     },
     "execution_count": 2,
     "metadata": {},
     "output_type": "execute_result"
    }
   ],
   "source": [
    "df = pd.read_csv(\"Urgent10k_scraped_reviews.csv\", encoding=\"ISO-8859-1\")\n",
    "df.head()"
   ]
  },
  {
   "cell_type": "code",
   "execution_count": 3,
   "id": "f9413dd2",
   "metadata": {},
   "outputs": [
    {
     "data": {
      "text/html": [
       "<div>\n",
       "<style scoped>\n",
       "    .dataframe tbody tr th:only-of-type {\n",
       "        vertical-align: middle;\n",
       "    }\n",
       "\n",
       "    .dataframe tbody tr th {\n",
       "        vertical-align: top;\n",
       "    }\n",
       "\n",
       "    .dataframe thead th {\n",
       "        text-align: right;\n",
       "    }\n",
       "</style>\n",
       "<table border=\"1\" class=\"dataframe\">\n",
       "  <thead>\n",
       "    <tr style=\"text-align: right;\">\n",
       "      <th></th>\n",
       "      <th>userName</th>\n",
       "      <th>reviews</th>\n",
       "      <th>score</th>\n",
       "      <th>thumbsUpCount</th>\n",
       "      <th>reviewCreatedVersion</th>\n",
       "      <th>at</th>\n",
       "      <th>replyContent</th>\n",
       "      <th>repliedAt</th>\n",
       "    </tr>\n",
       "  </thead>\n",
       "  <tbody>\n",
       "    <tr>\n",
       "      <th>0</th>\n",
       "      <td>Anivungu Barnabas</td>\n",
       "      <td>Please, i download this app, i processed every...</td>\n",
       "      <td>1</td>\n",
       "      <td>0</td>\n",
       "      <td>1.9</td>\n",
       "      <td>2023-03-19 17:08:09</td>\n",
       "      <td>Hi, can you please send us your account detail...</td>\n",
       "      <td>2023-03-19 22:20:55</td>\n",
       "    </tr>\n",
       "    <tr>\n",
       "      <th>1</th>\n",
       "      <td>shawn keen</td>\n",
       "      <td>the app is thrash. keeps telling me my app is ...</td>\n",
       "      <td>1</td>\n",
       "      <td>0</td>\n",
       "      <td>1.9</td>\n",
       "      <td>2023-03-19 16:22:20</td>\n",
       "      <td>Hi, please email us a screenshot of the error ...</td>\n",
       "      <td>2023-03-19 22:22:54</td>\n",
       "    </tr>\n",
       "    <tr>\n",
       "      <th>2</th>\n",
       "      <td>Chijioke Benneth</td>\n",
       "      <td>Well urgent10k is fast and easy to go well don...</td>\n",
       "      <td>3</td>\n",
       "      <td>0</td>\n",
       "      <td>1.9</td>\n",
       "      <td>2023-03-19 13:50:11</td>\n",
       "      <td>We appreciate the feedback! Please let us know...</td>\n",
       "      <td>2023-03-19 22:22:23</td>\n",
       "    </tr>\n",
       "    <tr>\n",
       "      <th>3</th>\n",
       "      <td>Nwosu Sunday</td>\n",
       "      <td>Trash</td>\n",
       "      <td>1</td>\n",
       "      <td>0</td>\n",
       "      <td>1.9</td>\n",
       "      <td>2023-03-19 07:52:41</td>\n",
       "      <td>Hi, we are always looking to improve the exper...</td>\n",
       "      <td>2023-03-19 22:22:04</td>\n",
       "    </tr>\n",
       "    <tr>\n",
       "      <th>4</th>\n",
       "      <td>Nuhu Nganjiwa</td>\n",
       "      <td>Awesome app</td>\n",
       "      <td>5</td>\n",
       "      <td>0</td>\n",
       "      <td>1.9</td>\n",
       "      <td>2023-03-19 07:48:12</td>\n",
       "      <td>Thank you very much. Keep using our app :)</td>\n",
       "      <td>2023-03-19 22:21:33</td>\n",
       "    </tr>\n",
       "  </tbody>\n",
       "</table>\n",
       "</div>"
      ],
      "text/plain": [
       "            userName                                            reviews  \\\n",
       "0  Anivungu Barnabas  Please, i download this app, i processed every...   \n",
       "1         shawn keen  the app is thrash. keeps telling me my app is ...   \n",
       "2   Chijioke Benneth  Well urgent10k is fast and easy to go well don...   \n",
       "3       Nwosu Sunday                                              Trash   \n",
       "4      Nuhu Nganjiwa                                        Awesome app   \n",
       "\n",
       "   score  thumbsUpCount  reviewCreatedVersion                   at  \\\n",
       "0      1              0                   1.9  2023-03-19 17:08:09   \n",
       "1      1              0                   1.9  2023-03-19 16:22:20   \n",
       "2      3              0                   1.9  2023-03-19 13:50:11   \n",
       "3      1              0                   1.9  2023-03-19 07:52:41   \n",
       "4      5              0                   1.9  2023-03-19 07:48:12   \n",
       "\n",
       "                                        replyContent            repliedAt  \n",
       "0  Hi, can you please send us your account detail...  2023-03-19 22:20:55  \n",
       "1  Hi, please email us a screenshot of the error ...  2023-03-19 22:22:54  \n",
       "2  We appreciate the feedback! Please let us know...  2023-03-19 22:22:23  \n",
       "3  Hi, we are always looking to improve the exper...  2023-03-19 22:22:04  \n",
       "4         Thank you very much. Keep using our app :)  2023-03-19 22:21:33  "
      ]
     },
     "execution_count": 3,
     "metadata": {},
     "output_type": "execute_result"
    }
   ],
   "source": [
    "# drop unneccessary columns\n",
    "df = df.drop(columns=[\"reviewId\", \"userImage\"], axis=0)\n",
    "df.head()"
   ]
  },
  {
   "cell_type": "code",
   "execution_count": 4,
   "id": "731dde71",
   "metadata": {},
   "outputs": [
    {
     "data": {
      "text/plain": [
       "0"
      ]
     },
     "execution_count": 4,
     "metadata": {},
     "output_type": "execute_result"
    }
   ],
   "source": [
    "#  check for duplicates\n",
    "df.duplicated().sum()"
   ]
  },
  {
   "cell_type": "code",
   "execution_count": 5,
   "id": "f43d483f",
   "metadata": {},
   "outputs": [
    {
     "data": {
      "text/plain": [
       "(241, 8)"
      ]
     },
     "execution_count": 5,
     "metadata": {},
     "output_type": "execute_result"
    }
   ],
   "source": [
    "df.shape"
   ]
  },
  {
   "cell_type": "markdown",
   "id": "a30a54fa",
   "metadata": {},
   "source": [
    "- the dataset contain 241 unique customers reviews"
   ]
  },
  {
   "cell_type": "code",
   "execution_count": 6,
   "id": "727198e3",
   "metadata": {},
   "outputs": [
    {
     "name": "stdout",
     "output_type": "stream",
     "text": [
      "<class 'pandas.core.frame.DataFrame'>\n",
      "RangeIndex: 241 entries, 0 to 240\n",
      "Data columns (total 8 columns):\n",
      " #   Column                Non-Null Count  Dtype  \n",
      "---  ------                --------------  -----  \n",
      " 0   userName              241 non-null    object \n",
      " 1   reviews               241 non-null    object \n",
      " 2   score                 241 non-null    int64  \n",
      " 3   thumbsUpCount         241 non-null    int64  \n",
      " 4   reviewCreatedVersion  206 non-null    float64\n",
      " 5   at                    241 non-null    object \n",
      " 6   replyContent          148 non-null    object \n",
      " 7   repliedAt             148 non-null    object \n",
      "dtypes: float64(1), int64(2), object(5)\n",
      "memory usage: 15.2+ KB\n"
     ]
    }
   ],
   "source": [
    "df.info()"
   ]
  },
  {
   "cell_type": "code",
   "execution_count": 7,
   "id": "dbfe38eb",
   "metadata": {},
   "outputs": [
    {
     "data": {
      "text/html": [
       "<div>\n",
       "<style scoped>\n",
       "    .dataframe tbody tr th:only-of-type {\n",
       "        vertical-align: middle;\n",
       "    }\n",
       "\n",
       "    .dataframe tbody tr th {\n",
       "        vertical-align: top;\n",
       "    }\n",
       "\n",
       "    .dataframe thead th {\n",
       "        text-align: right;\n",
       "    }\n",
       "</style>\n",
       "<table border=\"1\" class=\"dataframe\">\n",
       "  <thead>\n",
       "    <tr style=\"text-align: right;\">\n",
       "      <th></th>\n",
       "      <th>score</th>\n",
       "      <th>thumbsUpCount</th>\n",
       "      <th>reviewCreatedVersion</th>\n",
       "    </tr>\n",
       "  </thead>\n",
       "  <tbody>\n",
       "    <tr>\n",
       "      <th>count</th>\n",
       "      <td>241.000000</td>\n",
       "      <td>241.000000</td>\n",
       "      <td>206.000000</td>\n",
       "    </tr>\n",
       "    <tr>\n",
       "      <th>mean</th>\n",
       "      <td>3.248963</td>\n",
       "      <td>2.033195</td>\n",
       "      <td>1.582039</td>\n",
       "    </tr>\n",
       "    <tr>\n",
       "      <th>std</th>\n",
       "      <td>1.754829</td>\n",
       "      <td>6.769950</td>\n",
       "      <td>0.167092</td>\n",
       "    </tr>\n",
       "    <tr>\n",
       "      <th>min</th>\n",
       "      <td>1.000000</td>\n",
       "      <td>0.000000</td>\n",
       "      <td>1.100000</td>\n",
       "    </tr>\n",
       "    <tr>\n",
       "      <th>25%</th>\n",
       "      <td>1.000000</td>\n",
       "      <td>0.000000</td>\n",
       "      <td>1.500000</td>\n",
       "    </tr>\n",
       "    <tr>\n",
       "      <th>50%</th>\n",
       "      <td>4.000000</td>\n",
       "      <td>0.000000</td>\n",
       "      <td>1.600000</td>\n",
       "    </tr>\n",
       "    <tr>\n",
       "      <th>75%</th>\n",
       "      <td>5.000000</td>\n",
       "      <td>1.000000</td>\n",
       "      <td>1.600000</td>\n",
       "    </tr>\n",
       "    <tr>\n",
       "      <th>max</th>\n",
       "      <td>5.000000</td>\n",
       "      <td>56.000000</td>\n",
       "      <td>1.900000</td>\n",
       "    </tr>\n",
       "  </tbody>\n",
       "</table>\n",
       "</div>"
      ],
      "text/plain": [
       "            score  thumbsUpCount  reviewCreatedVersion\n",
       "count  241.000000     241.000000            206.000000\n",
       "mean     3.248963       2.033195              1.582039\n",
       "std      1.754829       6.769950              0.167092\n",
       "min      1.000000       0.000000              1.100000\n",
       "25%      1.000000       0.000000              1.500000\n",
       "50%      4.000000       0.000000              1.600000\n",
       "75%      5.000000       1.000000              1.600000\n",
       "max      5.000000      56.000000              1.900000"
      ]
     },
     "execution_count": 7,
     "metadata": {},
     "output_type": "execute_result"
    }
   ],
   "source": [
    "df.describe()"
   ]
  },
  {
   "cell_type": "code",
   "execution_count": 8,
   "id": "158c0b66",
   "metadata": {},
   "outputs": [
    {
     "data": {
      "text/plain": [
       "userName                 0\n",
       "reviews                  0\n",
       "score                    0\n",
       "thumbsUpCount            0\n",
       "reviewCreatedVersion    35\n",
       "at                       0\n",
       "replyContent            93\n",
       "repliedAt               93\n",
       "dtype: int64"
      ]
     },
     "execution_count": 8,
     "metadata": {},
     "output_type": "execute_result"
    }
   ],
   "source": [
    "# check for null cells\n",
    "df.isnull().sum()"
   ]
  },
  {
   "cell_type": "code",
   "execution_count": 9,
   "id": "1010fe3a",
   "metadata": {},
   "outputs": [
    {
     "data": {
      "text/plain": [
       "5    101\n",
       "1     76\n",
       "4     28\n",
       "3     18\n",
       "2     18\n",
       "Name: score, dtype: int64"
      ]
     },
     "execution_count": 9,
     "metadata": {},
     "output_type": "execute_result"
    }
   ],
   "source": [
    "# evaluate the star ratings distribution\n",
    "ratings = df[\"score\"].value_counts()\n",
    "ratings"
   ]
  },
  {
   "cell_type": "markdown",
   "id": "1ef92294",
   "metadata": {},
   "source": [
    "* there is higher percentage of 5 stars rating \n",
    "* but closely follow by 1 star rating\n",
    "\n",
    "This will require further investigation"
   ]
  },
  {
   "cell_type": "code",
   "execution_count": 10,
   "id": "144d51a7",
   "metadata": {},
   "outputs": [
    {
     "data": {
      "image/png": "[encoded data removed]",
      "text/plain": [
       "<Figure size 640x480 with 1 Axes>"
      ]
     },
     "metadata": {},
     "output_type": "display_data"
    }
   ],
   "source": [
    "# Display the star rating distribution\n",
    "sns.countplot(x=df[\"score\"])\n",
    "plt.title(\"Star_rating Distribution\")\n",
    "plt.show()"
   ]
  },
  {
   "cell_type": "code",
   "execution_count": 11,
   "id": "f2854449",
   "metadata": {},
   "outputs": [
    {
     "data": {
      "text/plain": [
       "0     177\n",
       "1      24\n",
       "2      12\n",
       "7       3\n",
       "3       3\n",
       "4       3\n",
       "11      2\n",
       "10      2\n",
       "16      2\n",
       "19      2\n",
       "32      1\n",
       "56      1\n",
       "25      1\n",
       "15      1\n",
       "35      1\n",
       "41      1\n",
       "8       1\n",
       "34      1\n",
       "5       1\n",
       "9       1\n",
       "28      1\n",
       "Name: thumbsUpCount, dtype: int64"
      ]
     },
     "execution_count": 11,
     "metadata": {},
     "output_type": "execute_result"
    }
   ],
   "source": [
    "# calculate the reviews with the highest number of likes\n",
    "df[\"thumbsUpCount\"].value_counts()"
   ]
  },
  {
   "cell_type": "markdown",
   "id": "2b5e6fde",
   "metadata": {},
   "source": [
    "* there were 177 customers' reviews with 0 like\n",
    "* there was one customer review with 56 likes\n",
    "* and another review with 41 likes"
   ]
  },
  {
   "cell_type": "code",
   "execution_count": 12,
   "id": "daba9c17",
   "metadata": {},
   "outputs": [
    {
     "data": {
      "text/html": [
       "<div>\n",
       "<style scoped>\n",
       "    .dataframe tbody tr th:only-of-type {\n",
       "        vertical-align: middle;\n",
       "    }\n",
       "\n",
       "    .dataframe tbody tr th {\n",
       "        vertical-align: top;\n",
       "    }\n",
       "\n",
       "    .dataframe thead th {\n",
       "        text-align: right;\n",
       "    }\n",
       "</style>\n",
       "<table border=\"1\" class=\"dataframe\">\n",
       "  <thead>\n",
       "    <tr style=\"text-align: right;\">\n",
       "      <th></th>\n",
       "      <th>userName</th>\n",
       "      <th>reviews</th>\n",
       "      <th>score</th>\n",
       "      <th>thumbsUpCount</th>\n",
       "      <th>reviewCreatedVersion</th>\n",
       "      <th>replyContent</th>\n",
       "    </tr>\n",
       "  </thead>\n",
       "  <tbody>\n",
       "    <tr>\n",
       "      <th>229</th>\n",
       "      <td>Tope Fawehinmi</td>\n",
       "      <td>Seriously I think it a waste of time I apply f...</td>\n",
       "      <td>1</td>\n",
       "      <td>56</td>\n",
       "      <td>1.1</td>\n",
       "      <td>Hi Tope Fawehinmi we apologize for the inconve...</td>\n",
       "    </tr>\n",
       "    <tr>\n",
       "      <th>109</th>\n",
       "      <td>Faven Dautur</td>\n",
       "      <td>The app looks promising but it is a wack. don'...</td>\n",
       "      <td>1</td>\n",
       "      <td>41</td>\n",
       "      <td>1.6</td>\n",
       "      <td>NaN</td>\n",
       "    </tr>\n",
       "    <tr>\n",
       "      <th>101</th>\n",
       "      <td>Godsent Ubhi</td>\n",
       "      <td>Password working until one day it says invalid...</td>\n",
       "      <td>1</td>\n",
       "      <td>35</td>\n",
       "      <td>1.6</td>\n",
       "      <td>We regret the inconvenience you had to face. F...</td>\n",
       "    </tr>\n",
       "    <tr>\n",
       "      <th>66</th>\n",
       "      <td>stephen Ihiene C. Oduh</td>\n",
       "      <td>What a horrible app! How I wish I had listen t...</td>\n",
       "      <td>1</td>\n",
       "      <td>34</td>\n",
       "      <td>1.6</td>\n",
       "      <td>NaN</td>\n",
       "    </tr>\n",
       "    <tr>\n",
       "      <th>231</th>\n",
       "      <td>AMARACHI NWACHUKWU</td>\n",
       "      <td>This is fraudulent act. After filling all my d...</td>\n",
       "      <td>1</td>\n",
       "      <td>32</td>\n",
       "      <td>NaN</td>\n",
       "      <td>We apologise for the inconvenience caused kind...</td>\n",
       "    </tr>\n",
       "    <tr>\n",
       "      <th>237</th>\n",
       "      <td>Olaniyi Peter</td>\n",
       "      <td>The app is false it's not functioning I just d...</td>\n",
       "      <td>1</td>\n",
       "      <td>28</td>\n",
       "      <td>1.1</td>\n",
       "      <td>Hi Olaniyi,\\nYour reveiw is false. We do give ...</td>\n",
       "    </tr>\n",
       "    <tr>\n",
       "      <th>224</th>\n",
       "      <td>Greg Ovini</td>\n",
       "      <td>I can't register why? The app gave me an error...</td>\n",
       "      <td>1</td>\n",
       "      <td>25</td>\n",
       "      <td>1.4</td>\n",
       "      <td>NaN</td>\n",
       "    </tr>\n",
       "  </tbody>\n",
       "</table>\n",
       "</div>"
      ],
      "text/plain": [
       "                   userName  \\\n",
       "229          Tope Fawehinmi   \n",
       "109            Faven Dautur   \n",
       "101            Godsent Ubhi   \n",
       "66   stephen Ihiene C. Oduh   \n",
       "231      AMARACHI NWACHUKWU   \n",
       "237           Olaniyi Peter   \n",
       "224              Greg Ovini   \n",
       "\n",
       "                                               reviews  score  thumbsUpCount  \\\n",
       "229  Seriously I think it a waste of time I apply f...      1             56   \n",
       "109  The app looks promising but it is a wack. don'...      1             41   \n",
       "101  Password working until one day it says invalid...      1             35   \n",
       "66   What a horrible app! How I wish I had listen t...      1             34   \n",
       "231  This is fraudulent act. After filling all my d...      1             32   \n",
       "237  The app is false it's not functioning I just d...      1             28   \n",
       "224  I can't register why? The app gave me an error...      1             25   \n",
       "\n",
       "     reviewCreatedVersion                                       replyContent  \n",
       "229                   1.1  Hi Tope Fawehinmi we apologize for the inconve...  \n",
       "109                   1.6                                                NaN  \n",
       "101                   1.6  We regret the inconvenience you had to face. F...  \n",
       "66                    1.6                                                NaN  \n",
       "231                   NaN  We apologise for the inconvenience caused kind...  \n",
       "237                   1.1  Hi Olaniyi,\\nYour reveiw is false. We do give ...  \n",
       "224                   1.4                                                NaN  "
      ]
     },
     "execution_count": 12,
     "metadata": {},
     "output_type": "execute_result"
    }
   ],
   "source": [
    "# let's examine top reviews people liked the most\n",
    "\n",
    "df_filtered = df[[\"userName\", \"reviews\", \"score\", \"thumbsUpCount\", \"reviewCreatedVersion\", \"replyContent\" ]]\n",
    "df_sorted = df_filtered.sort_values(\"thumbsUpCount\", ascending = False)\n",
    "df_sorted[df_sorted[\"thumbsUpCount\"] > 20]"
   ]
  },
  {
   "cell_type": "markdown",
   "id": "fc0a9d52",
   "metadata": {},
   "source": [
    "* It can be observed that reviews that have the most likes have low star rating `score`\n",
    "* we will closely examine the top 3 most liked comment to gain more insights "
   ]
  },
  {
   "cell_type": "code",
   "execution_count": 13,
   "id": "458ce6d3",
   "metadata": {},
   "outputs": [
    {
     "data": {
      "text/plain": [
       "'Seriously I think it a waste of time I apply for a loan on November 17 2021 it was approved in November 29 2021 after how many days I just saw the mail today only for me to go to the app and access the loan I see that it as been revised again really very bad the finest part is you will be chatting them or sending mails to them they will not reply you'"
      ]
     },
     "execution_count": 13,
     "metadata": {},
     "output_type": "execute_result"
    }
   ],
   "source": [
    "# the most liked review\n",
    "most_liked = df_sorted.iloc[0][\"reviews\"]\n",
    "most_liked"
   ]
  },
  {
   "cell_type": "code",
   "execution_count": 14,
   "id": "fc2a98ad",
   "metadata": {},
   "outputs": [
    {
     "data": {
      "text/plain": [
       "\"The app looks promising but it is a wack. don't waste your data downloading because it is useless. Applied for a loan and it keep showing pending application for past hours\""
      ]
     },
     "execution_count": 14,
     "metadata": {},
     "output_type": "execute_result"
    }
   ],
   "source": [
    "# the second most liked review\n",
    "second_ml = df_sorted.iloc[1][\"reviews\"]\n",
    "second_ml"
   ]
  },
  {
   "cell_type": "code",
   "execution_count": 15,
   "id": "13bea826",
   "metadata": {},
   "outputs": [
    {
     "data": {
      "text/plain": [
       "\"Password working until one day it says invalid credentials, I did the forgot password, changed it and immediately it said invalid credentials again, I've been unable to login since.\""
      ]
     },
     "execution_count": 15,
     "metadata": {},
     "output_type": "execute_result"
    }
   ],
   "source": [
    "# the third most liked review\n",
    "third_ml = df_sorted.iloc[2][\"reviews\"]\n",
    "third_ml"
   ]
  },
  {
   "cell_type": "markdown",
   "id": "495fd4fc",
   "metadata": {},
   "source": [
    "At a close observation of the most liked reviews, which suggests that most customers agreed with this review or have similar experience\n",
    "- we can deduce that it is a negative review, hence the 1 star rating (score)"
   ]
  },
  {
   "cell_type": "markdown",
   "id": "1cbfe679",
   "metadata": {},
   "source": [
    "### Data Manipulation\n",
    "- we will convert `at` and `repliedAt` to Datetime data type so as to perform further analysis"
   ]
  },
  {
   "cell_type": "code",
   "execution_count": 16,
   "id": "6d400f05",
   "metadata": {},
   "outputs": [],
   "source": [
    "# convert \"at\" and \"repliedAt\" columns to datetime dtype\n",
    "df[\"at\"] = pd.to_datetime(df[\"at\"])\n",
    "\n",
    "df[\"repliedAt\"] = pd.to_datetime(df[\"repliedAt\"])"
   ]
  },
  {
   "cell_type": "code",
   "execution_count": 17,
   "id": "ecc92867",
   "metadata": {},
   "outputs": [
    {
     "name": "stdout",
     "output_type": "stream",
     "text": [
      "<class 'pandas.core.frame.DataFrame'>\n",
      "RangeIndex: 241 entries, 0 to 240\n",
      "Data columns (total 8 columns):\n",
      " #   Column                Non-Null Count  Dtype         \n",
      "---  ------                --------------  -----         \n",
      " 0   userName              241 non-null    object        \n",
      " 1   reviews               241 non-null    object        \n",
      " 2   score                 241 non-null    int64         \n",
      " 3   thumbsUpCount         241 non-null    int64         \n",
      " 4   reviewCreatedVersion  206 non-null    float64       \n",
      " 5   at                    241 non-null    datetime64[ns]\n",
      " 6   replyContent          148 non-null    object        \n",
      " 7   repliedAt             148 non-null    datetime64[ns]\n",
      "dtypes: datetime64[ns](2), float64(1), int64(2), object(3)\n",
      "memory usage: 15.2+ KB\n"
     ]
    }
   ],
   "source": [
    "df.info()"
   ]
  },
  {
   "cell_type": "code",
   "execution_count": 18,
   "id": "91eea384",
   "metadata": {},
   "outputs": [
    {
     "name": "stdout",
     "output_type": "stream",
     "text": [
      "The first customer' review was at 2021-10-21 06:19:32\n"
     ]
    }
   ],
   "source": [
    "# determine the date of the first review\n",
    "first_review = df[\"at\"].min()\n",
    "print(f\"The first customer' review was at {first_review}\")"
   ]
  },
  {
   "cell_type": "code",
   "execution_count": 19,
   "id": "32b70a95",
   "metadata": {},
   "outputs": [
    {
     "name": "stdout",
     "output_type": "stream",
     "text": [
      "The most recent review within the dataset was at 2023-03-19 17:08:09\n"
     ]
    }
   ],
   "source": [
    "# the last review in this dataset\n",
    "recent_review = df[\"at\"].max()\n",
    "print(f\"The most recent review within the dataset was at {recent_review}\")"
   ]
  },
  {
   "cell_type": "markdown",
   "id": "026869bd",
   "metadata": {},
   "source": [
    "* the most recent review is most likely the first review to be viewed by a potental customer browsing, hence we will take close look at it"
   ]
  },
  {
   "cell_type": "code",
   "execution_count": 20,
   "id": "64c9eea8",
   "metadata": {},
   "outputs": [
    {
     "data": {
      "text/html": [
       "<div>\n",
       "<style scoped>\n",
       "    .dataframe tbody tr th:only-of-type {\n",
       "        vertical-align: middle;\n",
       "    }\n",
       "\n",
       "    .dataframe tbody tr th {\n",
       "        vertical-align: top;\n",
       "    }\n",
       "\n",
       "    .dataframe thead th {\n",
       "        text-align: right;\n",
       "    }\n",
       "</style>\n",
       "<table border=\"1\" class=\"dataframe\">\n",
       "  <thead>\n",
       "    <tr style=\"text-align: right;\">\n",
       "      <th></th>\n",
       "      <th>userName</th>\n",
       "      <th>reviews</th>\n",
       "      <th>score</th>\n",
       "      <th>thumbsUpCount</th>\n",
       "      <th>reviewCreatedVersion</th>\n",
       "      <th>at</th>\n",
       "      <th>replyContent</th>\n",
       "      <th>repliedAt</th>\n",
       "    </tr>\n",
       "  </thead>\n",
       "  <tbody>\n",
       "    <tr>\n",
       "      <th>0</th>\n",
       "      <td>Anivungu Barnabas</td>\n",
       "      <td>Please, i download this app, i processed every...</td>\n",
       "      <td>1</td>\n",
       "      <td>0</td>\n",
       "      <td>1.9</td>\n",
       "      <td>2023-03-19 17:08:09</td>\n",
       "      <td>Hi, can you please send us your account detail...</td>\n",
       "      <td>2023-03-19 22:20:55</td>\n",
       "    </tr>\n",
       "    <tr>\n",
       "      <th>1</th>\n",
       "      <td>shawn keen</td>\n",
       "      <td>the app is thrash. keeps telling me my app is ...</td>\n",
       "      <td>1</td>\n",
       "      <td>0</td>\n",
       "      <td>1.9</td>\n",
       "      <td>2023-03-19 16:22:20</td>\n",
       "      <td>Hi, please email us a screenshot of the error ...</td>\n",
       "      <td>2023-03-19 22:22:54</td>\n",
       "    </tr>\n",
       "    <tr>\n",
       "      <th>2</th>\n",
       "      <td>Chijioke Benneth</td>\n",
       "      <td>Well urgent10k is fast and easy to go well don...</td>\n",
       "      <td>3</td>\n",
       "      <td>0</td>\n",
       "      <td>1.9</td>\n",
       "      <td>2023-03-19 13:50:11</td>\n",
       "      <td>We appreciate the feedback! Please let us know...</td>\n",
       "      <td>2023-03-19 22:22:23</td>\n",
       "    </tr>\n",
       "    <tr>\n",
       "      <th>3</th>\n",
       "      <td>Nwosu Sunday</td>\n",
       "      <td>Trash</td>\n",
       "      <td>1</td>\n",
       "      <td>0</td>\n",
       "      <td>1.9</td>\n",
       "      <td>2023-03-19 07:52:41</td>\n",
       "      <td>Hi, we are always looking to improve the exper...</td>\n",
       "      <td>2023-03-19 22:22:04</td>\n",
       "    </tr>\n",
       "    <tr>\n",
       "      <th>4</th>\n",
       "      <td>Nuhu Nganjiwa</td>\n",
       "      <td>Awesome app</td>\n",
       "      <td>5</td>\n",
       "      <td>0</td>\n",
       "      <td>1.9</td>\n",
       "      <td>2023-03-19 07:48:12</td>\n",
       "      <td>Thank you very much. Keep using our app :)</td>\n",
       "      <td>2023-03-19 22:21:33</td>\n",
       "    </tr>\n",
       "  </tbody>\n",
       "</table>\n",
       "</div>"
      ],
      "text/plain": [
       "            userName                                            reviews  \\\n",
       "0  Anivungu Barnabas  Please, i download this app, i processed every...   \n",
       "1         shawn keen  the app is thrash. keeps telling me my app is ...   \n",
       "2   Chijioke Benneth  Well urgent10k is fast and easy to go well don...   \n",
       "3       Nwosu Sunday                                              Trash   \n",
       "4      Nuhu Nganjiwa                                        Awesome app   \n",
       "\n",
       "   score  thumbsUpCount  reviewCreatedVersion                  at  \\\n",
       "0      1              0                   1.9 2023-03-19 17:08:09   \n",
       "1      1              0                   1.9 2023-03-19 16:22:20   \n",
       "2      3              0                   1.9 2023-03-19 13:50:11   \n",
       "3      1              0                   1.9 2023-03-19 07:52:41   \n",
       "4      5              0                   1.9 2023-03-19 07:48:12   \n",
       "\n",
       "                                        replyContent           repliedAt  \n",
       "0  Hi, can you please send us your account detail... 2023-03-19 22:20:55  \n",
       "1  Hi, please email us a screenshot of the error ... 2023-03-19 22:22:54  \n",
       "2  We appreciate the feedback! Please let us know... 2023-03-19 22:22:23  \n",
       "3  Hi, we are always looking to improve the exper... 2023-03-19 22:22:04  \n",
       "4         Thank you very much. Keep using our app :) 2023-03-19 22:21:33  "
      ]
     },
     "execution_count": 20,
     "metadata": {},
     "output_type": "execute_result"
    }
   ],
   "source": [
    "sorted_df = df.sort_values(\"at\", ascending=False)\n",
    "sorted_df.head()"
   ]
  },
  {
   "cell_type": "markdown",
   "id": "26627d4a",
   "metadata": {},
   "source": [
    "- at a quick glance we can observe that the top 5 most recent revews contain more of 1 star ratings `score`"
   ]
  },
  {
   "cell_type": "code",
   "execution_count": 21,
   "id": "161dad90",
   "metadata": {},
   "outputs": [
    {
     "data": {
      "text/plain": [
       "'Please, i download this app, i processed everything, they always tell me to go back and update My app,'"
      ]
     },
     "execution_count": 21,
     "metadata": {},
     "output_type": "execute_result"
    }
   ],
   "source": [
    "# close examination of the latest\n",
    "recent_review = sorted_df.iloc[0][\"reviews\"]\n",
    "recent_review"
   ]
  },
  {
   "cell_type": "markdown",
   "id": "5338b2b8",
   "metadata": {},
   "source": [
    "- we can observe that the customer is talking about his/her dissatifacting expericence using the app"
   ]
  },
  {
   "cell_type": "markdown",
   "id": "4fecf1c0",
   "metadata": {},
   "source": [
    "### Feature Engineering\n",
    "- We are going to create a new feature called `duration`\n",
    "- `duration` is the time taken (in days) for support to reply a customer's review\n",
    "---------\n",
    "- we will also create a new feature `year`\n",
    "-`year`- consist of the year each review was created"
   ]
  },
  {
   "cell_type": "code",
   "execution_count": 22,
   "id": "628853b6",
   "metadata": {},
   "outputs": [],
   "source": [
    "# Calculate the number of days it took before each review got a reply\n",
    "df[\"duration\"] = (df[\"repliedAt\"] - df[\"at\"]).dt.days"
   ]
  },
  {
   "cell_type": "code",
   "execution_count": 23,
   "id": "14b044f8",
   "metadata": {},
   "outputs": [
    {
     "data": {
      "image/png": "[encoded data removed]",
      "text/plain": [
       "<Figure size 640x480 with 1 Axes>"
      ]
     },
     "metadata": {},
     "output_type": "display_data"
    }
   ],
   "source": [
    "# Create a count plot of 'duration'\n",
    "sns.countplot(y=\"duration\", data=df)\n",
    "plt.show()"
   ]
  },
  {
   "cell_type": "markdown",
   "id": "3f45d91d",
   "metadata": {},
   "source": [
    "- we can observe that most customer reviews had an early reply.\n",
    "- the negative values which is immposibe to have a reply before the review"
   ]
  },
  {
   "cell_type": "code",
   "execution_count": 24,
   "id": "73faabfe",
   "metadata": {},
   "outputs": [],
   "source": [
    "# Drop all negative duration values\n",
    "new_df = df.drop(df[df[\"duration\"]<0].index)"
   ]
  },
  {
   "cell_type": "code",
   "execution_count": 25,
   "id": "cabb3732",
   "metadata": {},
   "outputs": [
    {
     "data": {
      "image/png": "[encoded data removed]",
      "text/plain": [
       "<Figure size 640x480 with 1 Axes>"
      ]
     },
     "metadata": {},
     "output_type": "display_data"
    }
   ],
   "source": [
    "plt.hist(x=\"duration\", data=new_df)\n",
    "plt.ylabel(\"count\")\n",
    "plt.xlabel(\"duration\")\n",
    "plt.show()"
   ]
  },
  {
   "cell_type": "code",
   "execution_count": 26,
   "id": "14ef669b",
   "metadata": {},
   "outputs": [
    {
     "data": {
      "image/png": "[encoded data removed]",
      "text/plain": [
       "<Figure size 640x480 with 1 Axes>"
      ]
     },
     "metadata": {},
     "output_type": "display_data"
    }
   ],
   "source": [
    "sns.boxplot(x=\"duration\", data=new_df, sym=\"\")\n",
    "plt.show()"
   ]
  },
  {
   "cell_type": "code",
   "execution_count": 27,
   "id": "c21b3aa2",
   "metadata": {},
   "outputs": [
    {
     "data": {
      "text/plain": [
       "5.985401459854015"
      ]
     },
     "execution_count": 27,
     "metadata": {},
     "output_type": "execute_result"
    }
   ],
   "source": [
    "# What's the average time taken to respond\n",
    "new_df[\"duration\"].mean()"
   ]
  },
  {
   "cell_type": "code",
   "execution_count": 28,
   "id": "c7e3a625",
   "metadata": {},
   "outputs": [
    {
     "data": {
      "text/plain": [
       "0.28346868942621073"
      ]
     },
     "execution_count": 28,
     "metadata": {},
     "output_type": "execute_result"
    }
   ],
   "source": [
    "# what is the probability of getting an early reply (<=2 days)\n",
    "expon.cdf(2, scale=6)"
   ]
  },
  {
   "cell_type": "markdown",
   "id": "ddbcc44d",
   "metadata": {},
   "source": [
    "* there is about a 30% chance of getting an early reply\n",
    "\n",
    "Efforts should be made to improve quicker reponse to reviews"
   ]
  },
  {
   "cell_type": "code",
   "execution_count": 29,
   "id": "fa219734",
   "metadata": {},
   "outputs": [],
   "source": [
    "# Create a new feature of the the year each review was created\n",
    "df[\"year\"] = df[\"at\"].dt.year"
   ]
  },
  {
   "cell_type": "code",
   "execution_count": 30,
   "id": "036f6072",
   "metadata": {},
   "outputs": [
    {
     "data": {
      "image/png": "[encoded data removed]",
      "text/plain": [
       "<Figure size 640x480 with 1 Axes>"
      ]
     },
     "metadata": {},
     "output_type": "display_data"
    },
    {
     "data": {
      "text/plain": [
       "<Figure size 1500x2000 with 0 Axes>"
      ]
     },
     "metadata": {},
     "output_type": "display_data"
    }
   ],
   "source": [
    "# Create a line chart of score over time\n",
    "\n",
    "g=sns.lineplot(x=\"year\", y=\"score\", data=df, ci=None)\n",
    "plt.figure(figsize=(15, 20))\n",
    "g.set_title(\"YoY `Urgent10k` Star ratings\", y=1.03)\n",
    "plt.show()"
   ]
  },
  {
   "cell_type": "markdown",
   "id": "45ff0326",
   "metadata": {},
   "source": [
    "- there was a gradual raise in `urgent10k` app rating from 2021 to till mid 2022\n",
    "- and a decline commenced from 2022 to 2023\n",
    "\n",
    "More data will be required for further analysis"
   ]
  },
  {
   "cell_type": "code",
   "execution_count": 31,
   "id": "a9a72015",
   "metadata": {},
   "outputs": [
    {
     "data": {
      "text/plain": [
       "<seaborn.axisgrid.FacetGrid at 0x1e959ff5e20>"
      ]
     },
     "execution_count": 31,
     "metadata": {},
     "output_type": "execute_result"
    },
    {
     "data": {
      "image/png": "[encoded data removed]",
      "text/plain": [
       "<Figure size 623.986x500 with 1 Axes>"
      ]
     },
     "metadata": {},
     "output_type": "display_data"
    }
   ],
   "source": [
    "# Checking for correlation between star rating and app version\n",
    "sns.relplot(x=\"reviewCreatedVersion\", y=\"score\", data=df, kind=\"scatter\", size=\"thumbsUpCount\")"
   ]
  },
  {
   "cell_type": "code",
   "execution_count": 32,
   "id": "b03f4031",
   "metadata": {},
   "outputs": [
    {
     "data": {
      "text/plain": [
       "0.12987432982554348"
      ]
     },
     "execution_count": 32,
     "metadata": {},
     "output_type": "execute_result"
    }
   ],
   "source": [
    "df[\"score\"].corr(df[\"reviewCreatedVersion\"])"
   ]
  },
  {
   "cell_type": "markdown",
   "id": "c886b967",
   "metadata": {},
   "source": [
    "- there is weak positive correlation of 0.13 between star rating and app version"
   ]
  },
  {
   "cell_type": "code",
   "execution_count": 33,
   "id": "95b9f2c6",
   "metadata": {},
   "outputs": [
    {
     "data": {
      "text/plain": [
       "<AxesSubplot:>"
      ]
     },
     "execution_count": 33,
     "metadata": {},
     "output_type": "execute_result"
    },
    {
     "data": {
      "image/png": "[encoded data removed]",
      "text/plain": [
       "<Figure size 640x480 with 2 Axes>"
      ]
     },
     "metadata": {},
     "output_type": "display_data"
    }
   ],
   "source": [
    "sns.heatmap(df.corr(), annot=True)"
   ]
  },
  {
   "cell_type": "markdown",
   "id": "e8d35485",
   "metadata": {},
   "source": [
    "Here are some assumptions used:\n",
    "* all `duration` greater than 2 days are considered as `late_reply`\n",
    "* all `duration` less than equal to 2 days are considered as `early_reply`\n",
    "* all NaN `repliedAt` are labeled `no_reply`"
   ]
  },
  {
   "cell_type": "code",
   "execution_count": 34,
   "id": "d313dc98",
   "metadata": {},
   "outputs": [
    {
     "data": {
      "text/html": [
       "<div>\n",
       "<style scoped>\n",
       "    .dataframe tbody tr th:only-of-type {\n",
       "        vertical-align: middle;\n",
       "    }\n",
       "\n",
       "    .dataframe tbody tr th {\n",
       "        vertical-align: top;\n",
       "    }\n",
       "\n",
       "    .dataframe thead th {\n",
       "        text-align: right;\n",
       "    }\n",
       "</style>\n",
       "<table border=\"1\" class=\"dataframe\">\n",
       "  <thead>\n",
       "    <tr style=\"text-align: right;\">\n",
       "      <th></th>\n",
       "      <th>userName</th>\n",
       "      <th>reviews</th>\n",
       "      <th>score</th>\n",
       "      <th>replyContent</th>\n",
       "      <th>at</th>\n",
       "      <th>repliedAt</th>\n",
       "      <th>duration</th>\n",
       "    </tr>\n",
       "  </thead>\n",
       "  <tbody>\n",
       "    <tr>\n",
       "      <th>214</th>\n",
       "      <td>Steve Tekome</td>\n",
       "      <td>Guys stay away from these confused entity.</td>\n",
       "      <td>1</td>\n",
       "      <td>Hi, we'd like to understand the issue and help...</td>\n",
       "      <td>2022-03-11 22:03:29</td>\n",
       "      <td>2022-08-08 23:54:24</td>\n",
       "      <td>150.0</td>\n",
       "    </tr>\n",
       "    <tr>\n",
       "      <th>213</th>\n",
       "      <td>precious oseghe</td>\n",
       "      <td>This app na scam oh them go enter your account...</td>\n",
       "      <td>1</td>\n",
       "      <td>Hi, can you please provide details so that we ...</td>\n",
       "      <td>2022-03-23 18:37:59</td>\n",
       "      <td>2022-08-08 23:54:09</td>\n",
       "      <td>138.0</td>\n",
       "    </tr>\n",
       "    <tr>\n",
       "      <th>209</th>\n",
       "      <td>Osuji Patrick</td>\n",
       "      <td>I cabt register and the number I was asked to ...</td>\n",
       "      <td>1</td>\n",
       "      <td>Hi, please email us a screenshot of the error ...</td>\n",
       "      <td>2022-05-04 15:44:30</td>\n",
       "      <td>2022-08-08 23:53:45</td>\n",
       "      <td>96.0</td>\n",
       "    </tr>\n",
       "    <tr>\n",
       "      <th>207</th>\n",
       "      <td>Edeh Omon</td>\n",
       "      <td>Very good</td>\n",
       "      <td>5</td>\n",
       "      <td>Thank you Edeh, we appreciate your comment.</td>\n",
       "      <td>2022-07-10 20:14:33</td>\n",
       "      <td>2022-08-08 23:53:16</td>\n",
       "      <td>29.0</td>\n",
       "    </tr>\n",
       "    <tr>\n",
       "      <th>206</th>\n",
       "      <td>Abdul Ahmed</td>\n",
       "      <td>Nice one.. It's gud and easy to access loan an...</td>\n",
       "      <td>5</td>\n",
       "      <td>Thank you for your encouraging words.</td>\n",
       "      <td>2022-07-13 16:58:12</td>\n",
       "      <td>2022-08-08 23:52:44</td>\n",
       "      <td>26.0</td>\n",
       "    </tr>\n",
       "  </tbody>\n",
       "</table>\n",
       "</div>"
      ],
      "text/plain": [
       "            userName                                            reviews  \\\n",
       "214     Steve Tekome         Guys stay away from these confused entity.   \n",
       "213  precious oseghe  This app na scam oh them go enter your account...   \n",
       "209    Osuji Patrick  I cabt register and the number I was asked to ...   \n",
       "207        Edeh Omon                                          Very good   \n",
       "206      Abdul Ahmed  Nice one.. It's gud and easy to access loan an...   \n",
       "\n",
       "     score                                       replyContent  \\\n",
       "214      1  Hi, we'd like to understand the issue and help...   \n",
       "213      1  Hi, can you please provide details so that we ...   \n",
       "209      1  Hi, please email us a screenshot of the error ...   \n",
       "207      5        Thank you Edeh, we appreciate your comment.   \n",
       "206      5              Thank you for your encouraging words.   \n",
       "\n",
       "                     at           repliedAt  duration  \n",
       "214 2022-03-11 22:03:29 2022-08-08 23:54:24     150.0  \n",
       "213 2022-03-23 18:37:59 2022-08-08 23:54:09     138.0  \n",
       "209 2022-05-04 15:44:30 2022-08-08 23:53:45      96.0  \n",
       "207 2022-07-10 20:14:33 2022-08-08 23:53:16      29.0  \n",
       "206 2022-07-13 16:58:12 2022-08-08 23:52:44      26.0  "
      ]
     },
     "execution_count": 34,
     "metadata": {},
     "output_type": "execute_result"
    }
   ],
   "source": [
    "# Replies that took more than two days `late_reply`\n",
    "df_filter = df[[\"userName\", \"reviews\", \"score\", \"replyContent\", \"at\", \"repliedAt\",\"duration\" ]]\n",
    "late_reply = df_filter[df_filter[\"duration\"]>2]\n",
    "late_reply = late_reply.sort_values(\"duration\", ascending=False)\n",
    "late_reply.head()"
   ]
  },
  {
   "cell_type": "code",
   "execution_count": 35,
   "id": "3fe98da3",
   "metadata": {},
   "outputs": [
    {
     "data": {
      "text/plain": [
       "8.0"
      ]
     },
     "execution_count": 35,
     "metadata": {},
     "output_type": "execute_result"
    }
   ],
   "source": [
    "late_reply[\"duration\"].median()"
   ]
  },
  {
   "cell_type": "code",
   "execution_count": 36,
   "id": "c7e7cf40",
   "metadata": {},
   "outputs": [
    {
     "name": "stdout",
     "output_type": "stream",
     "text": [
      "The number of late replies were: 41\n"
     ]
    }
   ],
   "source": [
    "# number of late replies\n",
    "late_replies = len(late_reply)\n",
    "print(f\"The number of late replies were:\", late_replies)"
   ]
  },
  {
   "cell_type": "code",
   "execution_count": 37,
   "id": "db986b80",
   "metadata": {},
   "outputs": [
    {
     "name": "stdout",
     "output_type": "stream",
     "text": [
      "The number of reviews that had no reply were: 93\n"
     ]
    }
   ],
   "source": [
    "# number of reviews with no reply\n",
    "no_reply = df[\"repliedAt\"].isnull().sum()\n",
    "print(f\"The number of reviews that had no reply were:\", no_reply)"
   ]
  },
  {
   "cell_type": "code",
   "execution_count": 38,
   "id": "11fad324",
   "metadata": {},
   "outputs": [
    {
     "data": {
      "text/plain": [
       "96"
      ]
     },
     "execution_count": 38,
     "metadata": {},
     "output_type": "execute_result"
    }
   ],
   "source": [
    "# number of reviews with early reply\n",
    "earl_reply = len(new_df[new_df[\"duration\"]<=2])\n",
    "earl_reply"
   ]
  },
  {
   "cell_type": "code",
   "execution_count": 39,
   "id": "19af5d2f",
   "metadata": {},
   "outputs": [],
   "source": [
    "# Create a diction of replies\n",
    "replies = {\n",
    "    \"reply_type\": [\"early_reply\", \"late_reply\", \"no_reply\"],\n",
    "    \"count\": [96, 41, 93]\n",
    "}"
   ]
  },
  {
   "cell_type": "code",
   "execution_count": 40,
   "id": "6cf4359d",
   "metadata": {},
   "outputs": [
    {
     "data": {
      "text/html": [
       "<div>\n",
       "<style scoped>\n",
       "    .dataframe tbody tr th:only-of-type {\n",
       "        vertical-align: middle;\n",
       "    }\n",
       "\n",
       "    .dataframe tbody tr th {\n",
       "        vertical-align: top;\n",
       "    }\n",
       "\n",
       "    .dataframe thead th {\n",
       "        text-align: right;\n",
       "    }\n",
       "</style>\n",
       "<table border=\"1\" class=\"dataframe\">\n",
       "  <thead>\n",
       "    <tr style=\"text-align: right;\">\n",
       "      <th></th>\n",
       "      <th>reply_type</th>\n",
       "      <th>count</th>\n",
       "    </tr>\n",
       "  </thead>\n",
       "  <tbody>\n",
       "    <tr>\n",
       "      <th>0</th>\n",
       "      <td>early_reply</td>\n",
       "      <td>96</td>\n",
       "    </tr>\n",
       "    <tr>\n",
       "      <th>1</th>\n",
       "      <td>late_reply</td>\n",
       "      <td>41</td>\n",
       "    </tr>\n",
       "    <tr>\n",
       "      <th>2</th>\n",
       "      <td>no_reply</td>\n",
       "      <td>93</td>\n",
       "    </tr>\n",
       "  </tbody>\n",
       "</table>\n",
       "</div>"
      ],
      "text/plain": [
       "    reply_type  count\n",
       "0  early_reply     96\n",
       "1   late_reply     41\n",
       "2     no_reply     93"
      ]
     },
     "execution_count": 40,
     "metadata": {},
     "output_type": "execute_result"
    }
   ],
   "source": [
    "reply_df = pd.DataFrame(replies)\n",
    "reply_df"
   ]
  },
  {
   "cell_type": "code",
   "execution_count": 41,
   "id": "2c25b484",
   "metadata": {},
   "outputs": [
    {
     "data": {
      "image/png": "[encoded data removed]",
      "text/plain": [
       "<Figure size 640x480 with 1 Axes>"
      ]
     },
     "metadata": {},
     "output_type": "display_data"
    }
   ],
   "source": [
    "reply_df.plot(kind=\"bar\")\n",
    "\n",
    "# set custom x-axis tick labels\n",
    "xtick_labels =[\"Early Reply\", \"Late Reply\", \"No Reply\" ]\n",
    "plt.gca().set_xticklabels(xtick_labels, rotation=45)\n",
    "\n",
    "plt.title(\"Distribution of Reply Type\")\n",
    "plt.xlabel(\"Reply Types\")\n",
    "plt.ylabel(\"Count\")\n",
    "plt.show()"
   ]
  }
 ],
 "metadata": {
  "kernelspec": {
   "display_name": "Python 3 (ipykernel)",
   "language": "python",
   "name": "python3"
  },
  "language_info": {
   "codemirror_mode": {
    "name": "ipython",
    "version": 3
   },
   "file_extension": ".py",
   "mimetype": "text/x-python",
   "name": "python",
   "nbconvert_exporter": "python",
   "pygments_lexer": "ipython3",
   "version": "3.9.13"
  }
 },
 "nbformat": 4,
 "nbformat_minor": 5
}
